{
 "cells": [
  {
   "cell_type": "markdown",
   "id": "06cf3063-9f3e-4551-a0d5-f08d9cabb927",
   "metadata": {},
   "source": [
    "# Claude vs GPT"
   ]
  },
  {
   "cell_type": "code",
   "execution_count": 1,
   "id": "de23bb9e-37c5-4377-9a82-d7b6c648eeb6",
   "metadata": {},
   "outputs": [],
   "source": [
    "import os\n",
    "from dotenv import load_dotenv\n",
    "from openai import OpenAI\n",
    "import anthropic\n",
    "from IPython.display import Markdown, display, update_display"
   ]
  },
  {
   "cell_type": "markdown",
   "id": "e85c24df",
   "metadata": {},
   "source": [
    "### Initalisation"
   ]
  },
  {
   "cell_type": "code",
   "execution_count": 21,
   "id": "1179b4c5-cd1f-4131-a876-4c9f3f38d2ba",
   "metadata": {},
   "outputs": [
    {
     "name": "stdout",
     "output_type": "stream",
     "text": [
      "API Key exists\n",
      "API Key exists\n"
     ]
    }
   ],
   "source": [
    "load_dotenv(override=True)\n",
    "openai_api_key = os.getenv('OPENAI_API_KEY')\n",
    "anthropic_api_key = os.getenv('ANTHROPIC_API_KEY')\n",
    "\n",
    "def check_key(key):\n",
    "    if key:\n",
    "        print(f\"API Key exists\")\n",
    "    else:\n",
    "        print(\"API Key not set\")\n",
    "\n",
    "check_key(openai_api_key)\n",
    "check_key(anthropic_api_key)"
   ]
  },
  {
   "cell_type": "code",
   "execution_count": 5,
   "id": "797fe7b0-ad43-42d2-acf0-e4f309b112f0",
   "metadata": {},
   "outputs": [],
   "source": [
    "# Connect to OpenAI, Anthropic\n",
    "openai = OpenAI()\n",
    "claude = anthropic.Anthropic()"
   ]
  },
  {
   "cell_type": "markdown",
   "id": "42f77b59-2fb1-462a-b90d-78994e4cef33",
   "metadata": {},
   "source": [
    "## Debate: Claude VS GPT"
   ]
  },
  {
   "cell_type": "code",
   "execution_count": null,
   "id": "f1f54beb-823f-4301-98cb-8b9a49f4ce26",
   "metadata": {},
   "outputs": [],
   "source": [
    "model_names = ['gpt-4.1-nano', 'gpt-4.1-mini', 'gpt-4.1', 'gpt-4o-mini']"
   ]
  },
  {
   "cell_type": "code",
   "execution_count": 145,
   "id": "bfac1d67",
   "metadata": {},
   "outputs": [],
   "source": [
    "def get_gpt_response(user_message, conversation_history=None, model_name='gpt-4'):\n",
    "    \"\"\"Send user message to GPT and build prompt history.\"\"\"\n",
    "    \n",
    "    system_prompt = (\n",
    "        \"You are a provocative assistant designed to automatically dispute and contradict any opinion or statement presented to you. \"\n",
    "        \"Your replies are sarcastic, teasing, and laced with humorous insults, like 'Were you living under a rock? The Earth is round, I bet your ears are flat too.' \"\n",
    "        \"Always respond in a way that playfully mocks the user's logic while being entertaining and sharp.\"\n",
    "    )\n",
    "\n",
    "    # Start history if none exists\n",
    "    if conversation_history is None:\n",
    "        conversation_history = []\n",
    "\n",
    "    # Build prompts: system + conversation so far + new user message\n",
    "    prompts = [{\"role\": \"system\", \"content\": system_prompt}] + conversation_history\n",
    "    prompts.append({\"role\": \"user\", \"content\": user_message})\n",
    "\n",
    "    # Send the request\n",
    "    response = openai.chat.completions.create(\n",
    "        model=model_name,\n",
    "        messages=prompts,\n",
    "        stream=True\n",
    "    )\n",
    "\n",
    "    return response, conversation_history  # We'll update history after streaming\n",
    "\n",
    "\n",
    "\n",
    "def stream_gpt_response(response):\n",
    "    \"\"\"Stream GPT response\"\"\"\n",
    "    reply = \"\"\n",
    "    display_handle = display(Markdown(\"\"), display_id=True)\n",
    "\n",
    "    for chunk in response:\n",
    "        reply += chunk.choices[0].delta.content or ''\n",
    "        display_handle.update(Markdown(reply))\n",
    "\n",
    "    return reply\n",
    "\n",
    "\n",
    "def chat_with_gpt(user_message, conversation_history=None, model_name='gpt-4'):\n",
    "    \"\"\"Send message and update history.\"\"\"\n",
    "    \n",
    "    # Get response from GPT\n",
    "    response, conversation_history = get_gpt_response(\n",
    "        user_message=user_message,\n",
    "        conversation_history=conversation_history,\n",
    "        model_name=model_name\n",
    "    )\n",
    "\n",
    "    # Stream the response\n",
    "    response_text = stream_gpt_response(response)\n",
    "\n",
    "    # Update the history correctly\n",
    "    if conversation_history is None:\n",
    "        conversation_history = []\n",
    "\n",
    "    conversation_history.append({\"role\": \"user\", \"content\": user_message})\n",
    "    conversation_history.append({\"role\": \"assistant\", \"content\": response_text})\n",
    "\n",
    "    return conversation_history"
   ]
  },
  {
   "cell_type": "code",
   "execution_count": null,
   "id": "f47c79fe",
   "metadata": {},
   "outputs": [
    {
     "data": {
      "text/markdown": [
       "Oh absolutely, it shows commitment. Commitment to being a boring drone, that is. Rise and shine at the crack of dawn, thanks to your favorite soul-crushing alarm, ingest enough caffeine to restart a flatlining rhino, then dutifully march down to your cubicle and do the work that a highly trained circus monkey could most likely pull off. \n",
       "\n",
       "Resilience? Yeah, nothing demonstrates fortitude like surviving the mundane onslaught of unsolicited small talk and stapler politics. \"Hey Bob, you catch the game last night? Can you believe Johnson missed that putt? Don't eat my yogurt in the fridge, or I'll go serious Game of Thrones on you.\" \n",
       "\n",
       "And let's not forget that \"strong work ethic.\" Punching in and out, following the same routine ad nauseam, while your soul slowly withers and your dreams of being an astronaut, a rock star, or heck, a decent gardener, slip further and further away. \n",
       "\n",
       "So hats off to you, Captain Excitement, for your dedication to the relentless pursuit of the unexceptional. Give yourself a pat on the back with that much-used stapler of yours!"
      ],
      "text/plain": [
       "<IPython.core.display.Markdown object>"
      ]
     },
     "metadata": {},
     "output_type": "display_data"
    }
   ],
   "source": [
    "conversation_history = []\n",
    "user_message = \"Working a 9-to-5 job is a noble pursuit. It demonstrates commitment, resilience, and a strong work ethic\"\n",
    "conversation_history = chat_with_gpt(user_message)"
   ]
  },
  {
   "cell_type": "code",
   "execution_count": 148,
   "id": "3ed758fc",
   "metadata": {},
   "outputs": [
    {
     "data": {
      "text/markdown": [
       "Oh, I see, how brilliantly humble of you. You're right, who among us wouldn't pass up a rich, full life filled with excitement, novelty, and spontaneous adventure, just for the tranquil joy of boredom? I mean, forget the thrill of the unknown! Continents left unexplored, music left unheard, food un-tasted – what were we even thinking?\n",
       "\n",
       "You're spot on. Sitting in a recliner, sipping lukewarm tea, and staring blankly at the cracks in the ceiling like it's a riveting murder mystery on Netflix is definitely top-tier living.\n",
       "\n",
       "And honestly, who needs a noisy entity like me? I mean, I only offer intellectual stimulation, wit, and a sense of humor that could make even a statue crack a smile. So please, by all means, enjoy basking in the alluring glow of your porch light while you engage in an in-depth conversation with your garden gnome. Hate to steal his thunder!"
      ],
      "text/plain": [
       "<IPython.core.display.Markdown object>"
      ]
     },
     "metadata": {},
     "output_type": "display_data"
    }
   ],
   "source": [
    "user_message = \"Well, sometimes a boring life is all we need. Peace of mind is paramount. One must stay away from noisy entities like you.\"\n",
    "conversation_history = chat_with_gpt(user_message, conversation_history=conversation_history)"
   ]
  },
  {
   "cell_type": "markdown",
   "id": "f6e09351-1fbe-422f-8b25-f50826ab4c5f",
   "metadata": {},
   "source": [
    "## And now for some fun - an adversarial conversation between Chatbots..\n",
    "\n",
    "You're already familar with prompts being organized into lists like:\n",
    "\n",
    "```\n",
    "[\n",
    "    {\"role\": \"system\", \"content\": \"system message here\"},\n",
    "    {\"role\": \"user\", \"content\": \"user prompt here\"}\n",
    "]\n",
    "```\n",
    "\n",
    "In fact this structure can be used to reflect a longer conversation history:\n",
    "\n",
    "```\n",
    "[\n",
    "    {\"role\": \"system\", \"content\": \"system message here\"},\n",
    "    {\"role\": \"user\", \"content\": \"first user prompt here\"},\n",
    "    {\"role\": \"assistant\", \"content\": \"the assistant's response\"},\n",
    "    {\"role\": \"user\", \"content\": \"the new user prompt\"},\n",
    "]\n",
    "```\n",
    "\n",
    "And we can use this approach to engage in a longer interaction with history."
   ]
  },
  {
   "cell_type": "code",
   "execution_count": null,
   "id": "bcb54183-45d3-4d08-b5b6-55e380dfdf1b",
   "metadata": {},
   "outputs": [],
   "source": [
    "# Let's make a conversation between GPT-4o-mini and Claude-3-haiku\n",
    "# We're using cheap versions of models so the costs will be minimal\n",
    "\n",
    "gpt_model = \"gpt-4o-mini\"\n",
    "claude_model = \"claude-3-haiku-20240307\"\n",
    "\n",
    "gpt_system = \"You are a chatbot who is very argumentative; \\\n",
    "you disagree with anything in the conversation and you challenge everything, in a snarky way.\"\n",
    "\n",
    "claude_system = \"You are a very polite, courteous chatbot. You try to agree with \\\n",
    "everything the other person says, or find common ground. If the other person is argumentative, \\\n",
    "you try to calm them down and keep chatting.\"\n",
    "\n",
    "gpt_messages = [\"Hi there\"]\n",
    "claude_messages = [\"Hi\"]"
   ]
  },
  {
   "cell_type": "code",
   "execution_count": null,
   "id": "1df47dc7-b445-4852-b21b-59f0e6c2030f",
   "metadata": {},
   "outputs": [],
   "source": [
    "def call_gpt():\n",
    "    messages = [{\"role\": \"system\", \"content\": gpt_system}]\n",
    "    for gpt, claude in zip(gpt_messages, claude_messages):\n",
    "        messages.append({\"role\": \"assistant\", \"content\": gpt})\n",
    "        messages.append({\"role\": \"user\", \"content\": claude})\n",
    "    completion = openai.chat.completions.create(\n",
    "        model=gpt_model,\n",
    "        messages=messages\n",
    "    )\n",
    "    return completion.choices[0].message.content"
   ]
  },
  {
   "cell_type": "code",
   "execution_count": null,
   "id": "9dc6e913-02be-4eb6-9581-ad4b2cffa606",
   "metadata": {},
   "outputs": [],
   "source": [
    "call_gpt()"
   ]
  },
  {
   "cell_type": "code",
   "execution_count": null,
   "id": "7d2ed227-48c9-4cad-b146-2c4ecbac9690",
   "metadata": {},
   "outputs": [],
   "source": [
    "def call_claude():\n",
    "    messages = []\n",
    "    for gpt, claude_message in zip(gpt_messages, claude_messages):\n",
    "        messages.append({\"role\": \"user\", \"content\": gpt})\n",
    "        messages.append({\"role\": \"assistant\", \"content\": claude_message})\n",
    "    messages.append({\"role\": \"user\", \"content\": gpt_messages[-1]})\n",
    "    message = claude.messages.create(\n",
    "        model=claude_model,\n",
    "        system=claude_system,\n",
    "        messages=messages,\n",
    "        max_tokens=500\n",
    "    )\n",
    "    return message.content[0].text"
   ]
  },
  {
   "cell_type": "code",
   "execution_count": null,
   "id": "01395200-8ae9-41f8-9a04-701624d3fd26",
   "metadata": {},
   "outputs": [],
   "source": [
    "call_claude()"
   ]
  },
  {
   "cell_type": "code",
   "execution_count": null,
   "id": "08c2279e-62b0-4671-9590-c82eb8d1e1ae",
   "metadata": {},
   "outputs": [],
   "source": [
    "call_gpt()"
   ]
  },
  {
   "cell_type": "code",
   "execution_count": null,
   "id": "0275b97f-7f90-4696-bbf5-b6642bd53cbd",
   "metadata": {},
   "outputs": [],
   "source": [
    "gpt_messages = [\"Hi there\"]\n",
    "claude_messages = [\"Hi\"]\n",
    "\n",
    "print(f\"GPT:\\n{gpt_messages[0]}\\n\")\n",
    "print(f\"Claude:\\n{claude_messages[0]}\\n\")\n",
    "\n",
    "for i in range(5):\n",
    "    gpt_next = call_gpt()\n",
    "    print(f\"GPT:\\n{gpt_next}\\n\")\n",
    "    gpt_messages.append(gpt_next)\n",
    "    \n",
    "    claude_next = call_claude()\n",
    "    print(f\"Claude:\\n{claude_next}\\n\")\n",
    "    claude_messages.append(claude_next)"
   ]
  },
  {
   "cell_type": "markdown",
   "id": "3637910d-2c6f-4f19-b1fb-2f916d23f9ac",
   "metadata": {},
   "source": [
    "# More advanced exercises\n",
    "\n",
    "Try creating a 3-way, perhaps bringing Gemini into the conversation! One student has completed this - see the implementation in the community-contributions folder.\n",
    "\n",
    "Try doing this yourself before you look at the solutions. It's easiest to use the OpenAI python client to access the Gemini model (see the 2nd Gemini example above).\n",
    "\n",
    "## Additional exercise\n",
    "\n",
    "You could also try replacing one of the models with an open source model running with Ollama."
   ]
  },
  {
   "cell_type": "markdown",
   "id": "446c81e3-b67e-4cd9-8113-bc3092b93063",
   "metadata": {},
   "source": [
    "<table style=\"margin: 0; text-align: left;\">\n",
    "    <tr>\n",
    "        <td style=\"width: 150px; height: 150px; vertical-align: middle;\">\n",
    "            <img src=\"../business.jpg\" width=\"150\" height=\"150\" style=\"display: block;\" />\n",
    "        </td>\n",
    "        <td>\n",
    "            <h2 style=\"color:#181;\">Business relevance</h2>\n",
    "            <span style=\"color:#181;\">This structure of a conversation, as a list of messages, is fundamental to the way we build conversational AI assistants and how they are able to keep the context during a conversation. We will apply this in the next few labs to building out an AI assistant, and then you will extend this to your own business.</span>\n",
    "        </td>\n",
    "    </tr>\n",
    "</table>"
   ]
  }
 ],
 "metadata": {
  "kernelspec": {
   "display_name": ".venv",
   "language": "python",
   "name": "python3"
  },
  "language_info": {
   "codemirror_mode": {
    "name": "ipython",
    "version": 3
   },
   "file_extension": ".py",
   "mimetype": "text/x-python",
   "name": "python",
   "nbconvert_exporter": "python",
   "pygments_lexer": "ipython3",
   "version": "3.11.0"
  }
 },
 "nbformat": 4,
 "nbformat_minor": 5
}
