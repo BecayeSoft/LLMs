{
 "cells": [
  {
   "cell_type": "markdown",
   "id": "06cf3063-9f3e-4551-a0d5-f08d9cabb927",
   "metadata": {},
   "source": [
    "# Claude vs GPT\n",
    "\n",
    "**Improvements**\n",
    "- Pause the convo and continue without restarting.\n",
    "- Choose the topic ✅"
   ]
  },
  {
   "cell_type": "code",
   "execution_count": null,
   "id": "de23bb9e-37c5-4377-9a82-d7b6c648eeb6",
   "metadata": {},
   "outputs": [],
   "source": [
    "import sys\n",
    "sys.path.append(\"../src\")\n",
    "\n",
    "from test_chatbot import TestEris, TestSocrates\n",
    "from chatbot import Socrates, Eris\n",
    "from speak import stream_message, stream_first_message\n",
    "\n",
    "import gradio as gr\n",
    "import random"
   ]
  },
  {
   "cell_type": "code",
   "execution_count": null,
   "id": "6c776c92",
   "metadata": {},
   "outputs": [],
   "source": [
    "# !apt-get -qq -y install espeak-ng > /dev/null 2>&1\n",
    "# !winget install ffmpeg        # Required with pydub"
   ]
  },
  {
   "cell_type": "markdown",
   "id": "42f77b59-2fb1-462a-b90d-78994e4cef33",
   "metadata": {},
   "source": [
    "## Debate: Claude VS GPT"
   ]
  },
  {
   "cell_type": "markdown",
   "id": "bdafffd1",
   "metadata": {},
   "source": [
    "### GUI"
   ]
  },
  {
   "cell_type": "code",
   "execution_count": 3,
   "id": "1055de11",
   "metadata": {},
   "outputs": [],
   "source": [
    "def adversarial_chat(n_rounds, topic, speed=0.01, stop_flag=None):\n",
    "    \"\"\"\n",
    "    Enhanced debate with proper streaming and typing effects.\n",
    "    \"\"\"\n",
    "    # socrates = TestSocrates()\n",
    "    # eris = TestEris()\n",
    "    socrates = Socrates()\n",
    "    eris = Eris()\n",
    "    history = []\n",
    "\n",
    "    # Start the heated debate - use simple streaming for the opening message\n",
    "    eris_options = [\n",
    "        f\"Ready to get schooled about '{topic}'?, old man?\", \n",
    "        f\"Today's topic is: '{topic}'. This should be easy—your logic is about as sharp as a wet napkin.\",\n",
    "        f\"Hope you're prepared to lose spectacularly, Socrates. Let us talk about: '{topic}'\",\n",
    "        f\"Hey Socrates. Wanna argue about: '{topic}'? It will be fun to see you cry once you have lost.\",\n",
    "    ]\n",
    "    eris_reply = random.choice(eris_options)\n",
    "    print(\"First\", history)\n",
    "    for update in stream_first_message(history, eris_reply, is_socrates=False, delay=speed):\n",
    "        yield update\n",
    "\n",
    "    # Continue with alternating turns using real API streaming\n",
    "    for i in range(n_rounds-1):\n",
    "\n",
    "        # -> History is automatically updated in the streaming function because it is passed by reference\n",
    "\n",
    "        if i % 2 == 0:\n",
    "            # Socrates takes even turns\n",
    "            socrates.history = eris.history.copy()  # Sync conversation history\n",
    "            for update in stream_message(history, socrates, eris_reply, is_socrates=True, delay=speed):\n",
    "                yield update\n",
    "            soc_reply = history[-1][\"content\"]\n",
    "            \n",
    "        else:\n",
    "            #  Eris takes odd turns\n",
    "            eris.history = socrates.history.copy()  # Sync conversation history\n",
    "            for update in stream_message(history, eris, soc_reply, is_socrates=False, delay=speed):\n",
    "                yield update\n",
    "            eris_reply = history[-1][\"content\"]\n",
    "\n"
   ]
  },
  {
   "cell_type": "code",
   "execution_count": null,
   "id": "7229b697",
   "metadata": {},
   "outputs": [
    {
     "name": "stdout",
     "output_type": "stream",
     "text": [
      "* Running on local URL:  http://127.0.0.1:7860\n",
      "* To create a public link, set `share=True` in `launch()`.\n"
     ]
    },
    {
     "data": {
      "text/html": [
       "<div><iframe src=\"http://127.0.0.1:7860/\" width=\"100%\" height=\"500\" allow=\"autoplay; camera; microphone; clipboard-read; clipboard-write;\" frameborder=\"0\" allowfullscreen></iframe></div>"
      ],
      "text/plain": [
       "<IPython.core.display.HTML object>"
      ]
     },
     "metadata": {},
     "output_type": "display_data"
    },
    {
     "data": {
      "text/plain": []
     },
     "execution_count": 4,
     "metadata": {},
     "output_type": "execute_result"
    },
    {
     "name": "stdout",
     "output_type": "stream",
     "text": [
      "First []\n"
     ]
    },
    {
     "name": "stderr",
     "output_type": "stream",
     "text": [
      "d:\\GitHub\\LLMs\\Advserial-LLMs\\.venv\\Lib\\site-packages\\gradio\\processing_utils.py:753: UserWarning: Trying to convert audio automatically from float32 to 16-bit int format.\n",
      "  warnings.warn(warning.format(data.dtype))\n"
     ]
    },
    {
     "data": {
      "text/markdown": [
       "*adjusts toga and raises an eyebrow* Ah, Eris, your attempt to provoke me is as transparent as a child's plea for attention. If you wish to engage in intellectual discourse, I suggest you bring forth a substantive argument rather than mere provocative rhetoric."
      ],
      "text/plain": [
       "<IPython.core.display.Markdown object>"
      ]
     },
     "metadata": {},
     "output_type": "display_data"
    },
    {
     "data": {
      "text/markdown": [
       "Oh, Socrates, telling me to bring a \"substantive argument\" is rich coming from a font of philosophical clichés—surely you just enjoy repeating yourself endlessly, like a broken record. But then again, what can I expect from someone whose idea of wisdom is just echoing ancient platitudes?"
      ],
      "text/plain": [
       "<IPython.core.display.Markdown object>"
      ]
     },
     "metadata": {},
     "output_type": "display_data"
    }
   ],
   "source": [
    "with gr.Blocks() as demo:\n",
    "    gr.Markdown(\"## ⚔️ Socrates vs. Eris\")\n",
    "    gr.Markdown(\n",
    "        \"Dive into a battle of minds where **Socrates**, the calm philosopher, asks piercing questions \"\n",
    "        \"to uncover truth — and **Eris**, the goddess of discord, responds with sarcastic wit and playful contradiction.  \\n\"\n",
    "        \"Choose a topic and watch them clash in a brief, animated debate.\"\n",
    "    )\n",
    "\n",
    "    with gr.Row():\n",
    "        rounds = gr.Number(label=\"Rounds\", value=4, precision=0, minimum=1)\n",
    "        topic_input = gr.Textbox(label=\"Debate Topic\", placeholder=\"e.g. What is freedom?\")\n",
    "        start_btn = gr.Button(\"Start Debate\", interactive=False)  # Initially disabled\n",
    "\n",
    "    chatbox = gr.Chatbot(label=\"Let the battle begin!\", type=\"messages\", height=500)\n",
    "    audio_output = gr.Audio(label=\"🗣️\", autoplay=True, visible=True)\n",
    "\n",
    "    def reset_chat():\n",
    "        return [], None\n",
    "\n",
    "    def validate_inputs(topic, n_rounds):\n",
    "        valid_topic = bool(topic.strip())\n",
    "        valid_rounds = isinstance(n_rounds, (int, float)) and n_rounds > 0\n",
    "        return gr.update(interactive=valid_topic and valid_rounds)\n",
    "\n",
    "    # Hook to clear previous chat/audio\n",
    "    start_btn.click(fn=reset_chat, outputs=[chatbox, audio_output])\n",
    "\n",
    "    # Launch the debate\n",
    "    start_btn.click(fn=adversarial_chat,\n",
    "                    inputs=[rounds, topic_input],\n",
    "                    outputs=[chatbox, audio_output])\n",
    "\n",
    "    # Enable/disable start button based on both inputs\n",
    "    topic_input.change(fn=validate_inputs, inputs=[topic_input, rounds], outputs=start_btn)\n",
    "    rounds.change(fn=validate_inputs, inputs=[topic_input, rounds], outputs=start_btn)\n",
    "\n",
    "\n",
    "demo.launch(share=False)\n",
    "# demo.launch(share=True, debug=True)\n",
    "# demo.launch(share=True)"
   ]
  }
 ],
 "metadata": {
  "kernelspec": {
   "display_name": ".venv",
   "language": "python",
   "name": "python3"
  },
  "language_info": {
   "codemirror_mode": {
    "name": "ipython",
    "version": 3
   },
   "file_extension": ".py",
   "mimetype": "text/x-python",
   "name": "python",
   "nbconvert_exporter": "python",
   "pygments_lexer": "ipython3",
   "version": "3.11.0"
  }
 },
 "nbformat": 4,
 "nbformat_minor": 5
}
