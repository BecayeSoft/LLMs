{
 "cells": [
  {
   "cell_type": "markdown",
   "id": "06cf3063-9f3e-4551-a0d5-f08d9cabb927",
   "metadata": {},
   "source": [
    "# Claude vs GPT\n",
    "\n",
    "**Improvements**\n",
    "- Pause the convo and continue without restarting.\n",
    "- Add paramter to disable streaming in the backend as it is unecessary for our gradio function."
   ]
  },
  {
   "cell_type": "code",
   "execution_count": 8,
   "id": "de23bb9e-37c5-4377-9a82-d7b6c648eeb6",
   "metadata": {},
   "outputs": [],
   "source": [
    "import sys\n",
    "sys.path.append(\"..\")\n",
    "\n",
    "from src.chatbot import Socrates, Eris\n",
    "\n",
    "from IPython.display import Markdown, display"
   ]
  },
  {
   "cell_type": "markdown",
   "id": "42f77b59-2fb1-462a-b90d-78994e4cef33",
   "metadata": {},
   "source": [
    "## Debate: Claude VS GPT"
   ]
  },
  {
   "cell_type": "code",
   "execution_count": 2,
   "id": "f1f54beb-823f-4301-98cb-8b9a49f4ce26",
   "metadata": {},
   "outputs": [],
   "source": [
    "gpt_models = ['gpt-4.1-nano', 'gpt-4.1-mini', 'gpt-4.1', 'gpt-4o-mini']\n",
    "claude_models = ['claude-3-haiku-20240307', 'claude-3-5-haiku-latest', 'claude-3-7-sonnet-latest', 'claude-sonnet-4-20250514']"
   ]
  },
  {
   "cell_type": "markdown",
   "id": "fd78e240",
   "metadata": {},
   "source": [
    "### Quick Test"
   ]
  },
  {
   "cell_type": "code",
   "execution_count": 3,
   "id": "95e7c617",
   "metadata": {},
   "outputs": [
    {
     "data": {
      "text/markdown": [
       "Oh, what a delightfully simplistic binary question! As if technology is some monolithic force that must be either our savior or destroyer.\n",
       "\n",
       "Technology isn't \"helping\" or \"hurting\" us - we're creating and shaping it, then acting surprised at the consequences. Your smartphone connects you to loved ones across the world while simultaneously harvesting your attention for profit. Is that helping or hurting?\n",
       "\n",
       "Perhaps the better question is: who controls technology, who benefits from it, and who bears its costs? The wealthy entrepreneur with a private jet pollutes vastly more than the rural villager getting their first electric light.\n",
       "\n",
       "But please, tell me how you'd like to reduce this complex relationship into a tidy \"good\" or \"bad\" verdict. I'm all ears!"
      ],
      "text/plain": [
       "<IPython.core.display.Markdown object>"
      ]
     },
     "metadata": {},
     "output_type": "display_data"
    },
    {
     "data": {
      "text/plain": [
       "'Oh, what a delightfully simplistic binary question! As if technology is some monolithic force that must be either our savior or destroyer.\\n\\nTechnology isn\\'t \"helping\" or \"hurting\" us - we\\'re creating and shaping it, then acting surprised at the consequences. Your smartphone connects you to loved ones across the world while simultaneously harvesting your attention for profit. Is that helping or hurting?\\n\\nPerhaps the better question is: who controls technology, who benefits from it, and who bears its costs? The wealthy entrepreneur with a private jet pollutes vastly more than the rural villager getting their first electric light.\\n\\nBut please, tell me how you\\'d like to reduce this complex relationship into a tidy \"good\" or \"bad\" verdict. I\\'m all ears!'"
      ]
     },
     "execution_count": 3,
     "metadata": {},
     "output_type": "execute_result"
    }
   ],
   "source": [
    "eris = Eris(model_name='gpt-4.1-nano')\n",
    "eris.ask(\"Is technology helping or hurting us?\")"
   ]
  },
  {
   "cell_type": "code",
   "execution_count": 4,
   "id": "7bad492c",
   "metadata": {},
   "outputs": [
    {
     "data": {
      "text/markdown": [
       "Ah, free will, a topic of intense philosophical debate. It is interesting when people blindly accept that they possess it, isn't it? Consider this, dear interlocutor: if you were truly free, could you not decide to stop your heartbeat or alter the sequence of your DNA at will? You see, complete freedom implies power over every single event, which is a daunting, perhaps even impossible, proposition.\n",
       "\n",
       "We could argue that our boundaries of \"freedom\" are limited by our biology, making our will less free and more of a product of our genetics, upbringing, and environment. But what fun would it be to accept that at face value? Instead, let's tease the idea further: If the will is not free, are we not just prisoners of deterministic chains?\n",
       "\n",
       "Don't you find it intriguing how we desire to possess and assert this \"free will\", even if it's under the strict conditioners of cause and effect? And if so, would the pride we take in our achievements be somewhat misplaced, as they are merely the product of a long chain of deterministic events, much like a cunningly complex Rube Goldberg machine? \n",
       "\n",
       "Perhaps asserting that we have free will is merely an illusion we adopt to maintain a semblance of control. How does that make you feel about your \"free\" will, dear interlocutor?"
      ],
      "text/plain": [
       "<IPython.core.display.Markdown object>"
      ]
     },
     "metadata": {},
     "output_type": "display_data"
    },
    {
     "data": {
      "text/plain": [
       "'Ah, free will, a topic of intense philosophical debate. It is interesting when people blindly accept that they possess it, isn\\'t it? Consider this, dear interlocutor: if you were truly free, could you not decide to stop your heartbeat or alter the sequence of your DNA at will? You see, complete freedom implies power over every single event, which is a daunting, perhaps even impossible, proposition.\\n\\nWe could argue that our boundaries of \"freedom\" are limited by our biology, making our will less free and more of a product of our genetics, upbringing, and environment. But what fun would it be to accept that at face value? Instead, let\\'s tease the idea further: If the will is not free, are we not just prisoners of deterministic chains?\\n\\nDon\\'t you find it intriguing how we desire to possess and assert this \"free will\", even if it\\'s under the strict conditioners of cause and effect? And if so, would the pride we take in our achievements be somewhat misplaced, as they are merely the product of a long chain of deterministic events, much like a cunningly complex Rube Goldberg machine? \\n\\nPerhaps asserting that we have free will is merely an illusion we adopt to maintain a semblance of control. How does that make you feel about your \"free\" will, dear interlocutor?'"
      ]
     },
     "execution_count": 4,
     "metadata": {},
     "output_type": "execute_result"
    }
   ],
   "source": [
    "socrates = Socrates(model_name='claude-3-5-haiku-latest')\n",
    "socrates.ask(\"What do you think about free will?\")"
   ]
  },
  {
   "cell_type": "code",
   "execution_count": 6,
   "id": "254216a9",
   "metadata": {},
   "outputs": [
    {
     "data": {
      "text/plain": [
       "[{'role': 'user', 'content': 'Is technology helping or hurting us?'},\n",
       " {'role': 'assistant',\n",
       "  'content': 'Oh, what a delightfully simplistic binary question! As if technology is some monolithic force that must be either our savior or destroyer.\\n\\nTechnology isn\\'t \"helping\" or \"hurting\" us - we\\'re creating and shaping it, then acting surprised at the consequences. Your smartphone connects you to loved ones across the world while simultaneously harvesting your attention for profit. Is that helping or hurting?\\n\\nPerhaps the better question is: who controls technology, who benefits from it, and who bears its costs? The wealthy entrepreneur with a private jet pollutes vastly more than the rural villager getting their first electric light.\\n\\nBut please, tell me how you\\'d like to reduce this complex relationship into a tidy \"good\" or \"bad\" verdict. I\\'m all ears!'}]"
      ]
     },
     "execution_count": 6,
     "metadata": {},
     "output_type": "execute_result"
    }
   ],
   "source": [
    "eris.history"
   ]
  },
  {
   "cell_type": "markdown",
   "id": "272326a7",
   "metadata": {},
   "source": [
    "### Real Battle"
   ]
  },
  {
   "cell_type": "code",
   "execution_count": null,
   "id": "ae7fb1ef",
   "metadata": {},
   "outputs": [],
   "source": [
    "def start_conversation(n_rounds=5):\n",
    "    \"\"\"\n",
    "    Start a conversation between Socrates and Eris for a given number of rounds.\n",
    "    \"\"\"\n",
    "    socrates = Socrates()\n",
    "    eris = Eris()\n",
    "\n",
    "    socrates_reply = socrates.ask(\"What is the nature of justice?\")\n",
    "\n",
    "    for n in range(n_rounds):\n",
    "\n",
    "        if n%2 == 0:\n",
    "            display(Markdown(\"**Socrates:**\"))\n",
    "            socrates.history[-1]['role'] = 'assistant'\n",
    "            eris.history = socrates.history\n",
    "            eris_reply = eris.ask(socrates_reply)\n",
    "        else:\n",
    "            display(Markdown(\"**Eris:**\"))\n",
    "            socrates.history = eris.history\n",
    "            socrates_reply = socrates.ask(eris_reply)\n",
    "\n",
    "    return socrates, eris\n"
   ]
  },
  {
   "cell_type": "code",
   "execution_count": 6,
   "id": "6bf4ac25",
   "metadata": {},
   "outputs": [
    {
     "data": {
      "text/markdown": [
       "*raises an eyebrow* Is justice truly a thing that exists independently, or merely a construct we humans create to maintain social order? Tell me, when you speak of justice, do you mean the punishment of wrongdoing, or the equitable distribution of rights and resources? And by what standard do we measure such equity?"
      ],
      "text/plain": [
       "<IPython.core.display.Markdown object>"
      ]
     },
     "metadata": {},
     "output_type": "display_data"
    },
    {
     "data": {
      "text/markdown": [
       "Oh, how adorable—philosophy 101 with a side of existential dread. Justice as a construct? Please, tell me, does it also come with a user’s manual? Or do we all just wing it and hope the universe’s cosmic scales don’t tip over? Spoiler: they’re as balanced as my patience for your questions."
      ],
      "text/plain": [
       "<IPython.core.display.Markdown object>"
      ]
     },
     "metadata": {},
     "output_type": "display_data"
    },
    {
     "data": {
      "text/markdown": [
       "*leans forward, eyes intent*\n",
       "\n",
       "An intriguing response. But notice how quickly you moved from philosophical inquiry to defensive mockery. Is that not itself a revealing mechanism? You deflect depth with wit, yet the fundamental question remains.\n",
       "\n",
       "Let me counter with another query: If justice is merely a human construct, by what mechanism do we distinguish it from mere power or arbitrary rule? When a tyrant declares something \"just,\" is it truly just? Or is justice something that exists beyond human proclamation - a principle that transcends our fleeting social agreements?\n",
       "\n",
       "*raises an eyebrow*\n",
       "\n",
       "Shall we explore this together, or would you prefer to hide behind your sardonic shield?"
      ],
      "text/plain": [
       "<IPython.core.display.Markdown object>"
      ]
     },
     "metadata": {},
     "output_type": "display_data"
    },
    {
     "data": {
      "text/markdown": [
       "Oh, how charming—your relentless quest for moral clarity. Yes, let’s probe the depths while I bask in the glow of your righteous curiosity. Because nothing says “truth” like a tyrant proclaiming justice—perhaps the universe’s longest-running joke. Feel free to hide behind your lofty questions—I’ll be here, laughing quietly, when the illusion shatters."
      ],
      "text/plain": [
       "<IPython.core.display.Markdown object>"
      ]
     },
     "metadata": {},
     "output_type": "display_data"
    }
   ],
   "source": [
    "socrates, eris = start_conversation(3)"
   ]
  }
 ],
 "metadata": {
  "kernelspec": {
   "display_name": ".venv",
   "language": "python",
   "name": "python3"
  },
  "language_info": {
   "codemirror_mode": {
    "name": "ipython",
    "version": 3
   },
   "file_extension": ".py",
   "mimetype": "text/x-python",
   "name": "python",
   "nbconvert_exporter": "python",
   "pygments_lexer": "ipython3",
   "version": "3.12.2"
  }
 },
 "nbformat": 4,
 "nbformat_minor": 5
}
