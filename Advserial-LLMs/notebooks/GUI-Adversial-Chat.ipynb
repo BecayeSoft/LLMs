{
 "cells": [
  {
   "cell_type": "markdown",
   "id": "06cf3063-9f3e-4551-a0d5-f08d9cabb927",
   "metadata": {},
   "source": [
    "# Claude vs GPT\n",
    "\n",
    "**Improvements**\n",
    "- Pause the convo and continue without restarting.\n",
    "- Choose the topic ✅"
   ]
  },
  {
   "cell_type": "code",
   "execution_count": null,
   "id": "de23bb9e-37c5-4377-9a82-d7b6c648eeb6",
   "metadata": {},
   "outputs": [],
   "source": [
    "import sys\n",
    "sys.path.append(\"../src\")\n",
    "\n",
    "from chat.chatbot import Socrates, Eris\n",
    "# from audio.speak import stream_message, stream_first_message\n",
    "\n",
    "from chat.test_chatbot import TestEris, TestSocrates\n",
    "from streaming.stream import init_conversation, stream_with_typing\n",
    "# from audio.test_speak import speak_message\n",
    "\n",
    "import gradio as gr\n",
    "import random"
   ]
  },
  {
   "cell_type": "code",
   "execution_count": null,
   "id": "6c776c92",
   "metadata": {},
   "outputs": [],
   "source": [
    "# !apt-get -qq -y install espeak-ng > /dev/null 2>&1\n",
    "# !winget install ffmpeg        # Required with pydub"
   ]
  },
  {
   "cell_type": "markdown",
   "id": "42f77b59-2fb1-462a-b90d-78994e4cef33",
   "metadata": {},
   "source": [
    "## Debate: Claude VS GPT"
   ]
  },
  {
   "cell_type": "markdown",
   "id": "6d836f85",
   "metadata": {},
   "source": [
    "### Main Function"
   ]
  },
  {
   "cell_type": "code",
   "execution_count": 37,
   "id": "1055de11",
   "metadata": {},
   "outputs": [],
   "source": [
    "def adversarial_chat(n_rounds, topic, delay=0.005):\n",
    "    \"\"\"\n",
    "    Enhanced debate with proper streaming and typing effects.\n",
    "    \"\"\"\n",
    "    socrates = TestSocrates()\n",
    "    eris = TestEris()\n",
    "    history = []\n",
    "\n",
    "    # Start the heated debate - use simple streaming for the opening message\n",
    "    eris_options = [\n",
    "        f\"Ready to get schooled about '{topic}'?, old man?\", \n",
    "        f\"Today's topic is: '{topic}'. This should be easy—your logic is about as sharp as a wet napkin.\",\n",
    "        f\"Hope you're prepared to lose spectacularly, Socrates. Let us talk about: '{topic}'\",\n",
    "        f\"Hey Socrates. Wanna argue about: '{topic}'? It will be fun to see you cry once you have lost.\",\n",
    "    ]\n",
    "    eris_reply = random.choice(eris_options)\n",
    "    \n",
    "    # Stream the first message\n",
    "    for update in stream_with_typing(history=history, message=eris_reply, is_socrates=False, delay=delay):\n",
    "        # history = update  # Update the history reference\n",
    "        yield update\n",
    "\n",
    "    # Continue with alternating turns using real API streaming\n",
    "    for i in range(n_rounds-1):\n",
    "        if i % 2 == 0:\n",
    "            # Socrates takes even turns\n",
    "            socrates.history = eris.history.copy()  # Sync conversation history\n",
    "            socrates_reply = socrates.stream(eris_reply)\n",
    "            \n",
    "            for update in stream_with_typing(history=history, message=socrates_reply, is_socrates=True, delay=delay):\n",
    "                # history = update  # Update the history reference\n",
    "                yield update\n",
    "            soc_reply = history[-1][\"content\"]\n",
    "            \n",
    "        else:\n",
    "            # Eris takes odd turns\n",
    "            eris.history = socrates.history.copy()  # Sync conversation history\n",
    "            eris_reply = eris.stream(soc_reply)\n",
    "\n",
    "            for update in stream_with_typing(history=history, message=eris_reply, is_socrates=False, delay=delay):\n",
    "                # history = update  # Update the history reference\n",
    "                yield update\n",
    "            eris_reply = history[-1][\"content\"]\n",
    "\n"
   ]
  },
  {
   "cell_type": "markdown",
   "id": "bdafffd1",
   "metadata": {},
   "source": [
    "### GUI"
   ]
  },
  {
   "cell_type": "code",
   "execution_count": 38,
   "id": "7229b697",
   "metadata": {},
   "outputs": [
    {
     "name": "stdout",
     "output_type": "stream",
     "text": [
      "* Running on local URL:  http://127.0.0.1:7878\n",
      "* To create a public link, set `share=True` in `launch()`.\n"
     ]
    },
    {
     "data": {
      "text/html": [
       "<div><iframe src=\"http://127.0.0.1:7878/\" width=\"100%\" height=\"500\" allow=\"autoplay; camera; microphone; clipboard-read; clipboard-write;\" frameborder=\"0\" allowfullscreen></iframe></div>"
      ],
      "text/plain": [
       "<IPython.core.display.HTML object>"
      ]
     },
     "metadata": {},
     "output_type": "display_data"
    },
    {
     "data": {
      "text/plain": []
     },
     "execution_count": 38,
     "metadata": {},
     "output_type": "execute_result"
    }
   ],
   "source": [
    "with gr.Blocks() as demo:\n",
    "    gr.Markdown(\"## ⚔️ Socrates vs. Eris\")\n",
    "    gr.Markdown(\n",
    "        \"Dive into a battle of minds where **Socrates**, the calm philosopher, asks piercing questions \"\n",
    "        \"to uncover truth — and **Eris**, the goddess of discord, responds with sarcastic wit and playful contradiction.  \\n\"\n",
    "        \"Choose a topic and watch them clash in a brief, animated debate.\"\n",
    "    )\n",
    "\n",
    "    with gr.Row():\n",
    "        rounds = gr.Number(label=\"Rounds\", value=4, precision=0, minimum=1)\n",
    "        topic_input = gr.Textbox(label=\"Debate Topic\", placeholder=\"e.g. What is freedom?\")\n",
    "        start_btn = gr.Button(\"Start Debate\", interactive=True) #False)  # Initially disabled\n",
    "\n",
    "    # chatbox = gr.Chatbot(label=\"Let the battle begin!\", type=\"messages\", height=500)\n",
    "    chatbox = gr.Chatbot(\n",
    "        label=\"Let the battle begin!\",\n",
    "        type=\"messages\",\n",
    "        value=[],\n",
    "        height=500\n",
    "    )\n",
    "\n",
    "    def reset_chat():\n",
    "        return []\n",
    "\n",
    "    def validate_inputs(topic, n_rounds):\n",
    "        valid_topic = bool(topic.strip())\n",
    "        valid_rounds = isinstance(n_rounds, (int, float)) and n_rounds > 0\n",
    "        return gr.update(interactive=valid_topic and valid_rounds)\n",
    "\n",
    "    # Hook to clear previous chat\n",
    "    start_btn.click(fn=reset_chat, outputs=[chatbox])\n",
    "\n",
    "    # Launch the debate\n",
    "    start_btn.click(fn=adversarial_chat,\n",
    "                    inputs=[rounds, topic_input],\n",
    "                    outputs=[chatbox])\n",
    "\n",
    "    # Enable/disable start button based on both inputs\n",
    "    topic_input.change(fn=validate_inputs, inputs=[topic_input, rounds], outputs=start_btn)\n",
    "    rounds.change(fn=validate_inputs, inputs=[topic_input, rounds], outputs=start_btn)\n",
    "\n",
    "\n",
    "demo.launch(share=False)"
   ]
  }
 ],
 "metadata": {
  "kernelspec": {
   "display_name": ".venv",
   "language": "python",
   "name": "python3"
  },
  "language_info": {
   "codemirror_mode": {
    "name": "ipython",
    "version": 3
   },
   "file_extension": ".py",
   "mimetype": "text/x-python",
   "name": "python",
   "nbconvert_exporter": "python",
   "pygments_lexer": "ipython3",
   "version": "3.12.2"
  }
 },
 "nbformat": 4,
 "nbformat_minor": 5
}
