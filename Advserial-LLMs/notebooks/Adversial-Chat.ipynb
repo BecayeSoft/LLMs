{
 "cells": [
  {
   "cell_type": "markdown",
   "id": "06cf3063-9f3e-4551-a0d5-f08d9cabb927",
   "metadata": {},
   "source": [
    "# Claude vs GPT"
   ]
  },
  {
   "cell_type": "code",
   "execution_count": 33,
   "id": "de23bb9e-37c5-4377-9a82-d7b6c648eeb6",
   "metadata": {},
   "outputs": [],
   "source": [
    "import sys\n",
    "sys.path.append(\"../src\")\n",
    "from chat.chatbot import Socrates, Eris\n",
    "from IPython.display import Markdown, display\n",
    "import time\n",
    "import random"
   ]
  },
  {
   "cell_type": "markdown",
   "id": "42f77b59-2fb1-462a-b90d-78994e4cef33",
   "metadata": {},
   "source": [
    "## Debate: Claude VS GPT"
   ]
  },
  {
   "cell_type": "code",
   "execution_count": 2,
   "id": "f1f54beb-823f-4301-98cb-8b9a49f4ce26",
   "metadata": {},
   "outputs": [],
   "source": [
    "gpt_models = ['gpt-4.1-nano', 'gpt-4.1-mini', 'gpt-4.1', 'gpt-4o-mini']\n",
    "claude_models = ['claude-3-haiku-20240307', 'claude-3-5-haiku-latest', 'claude-3-7-sonnet-latest', 'claude-sonnet-4-20250514']"
   ]
  },
  {
   "cell_type": "markdown",
   "id": "fd78e240",
   "metadata": {},
   "source": [
    "### Quick Test"
   ]
  },
  {
   "cell_type": "code",
   "execution_count": 72,
   "id": "31e9aff9",
   "metadata": {},
   "outputs": [],
   "source": [
    "def stream(generator):\n",
    "    disp = display(Markdown(\"\"), display_id=True)\n",
    "    content = \"\"\n",
    "    for r in generator:\n",
    "        content += r\n",
    "        disp.update(Markdown(content))\n",
    "        time.sleep(0.01)\n",
    "\n",
    "    return content"
   ]
  },
  {
   "cell_type": "code",
   "execution_count": 53,
   "id": "95e7c617",
   "metadata": {},
   "outputs": [
    {
     "data": {
      "text/markdown": [
       "Helping? Please, it's turning us into lazy, disconnected monsters—nothing more than screens and shallow interactions."
      ],
      "text/plain": [
       "<IPython.core.display.Markdown object>"
      ]
     },
     "metadata": {},
     "output_type": "display_data"
    }
   ],
   "source": [
    "eris = Eris(model_name='gpt-4.1-nano')\n",
    "eris_reply = eris.stream(\"Is technology helping or hurting us?\")\n",
    "display_stream(eris_reply)"
   ]
  },
  {
   "cell_type": "code",
   "execution_count": 56,
   "id": "1e59a2ae",
   "metadata": {},
   "outputs": [
    {
     "data": {
      "text/plain": [
       "[{'role': 'user', 'content': 'Is technology helping or hurting us?'},\n",
       " {'role': 'assistant',\n",
       "  'content': \"Helping? Please, it's turning us into lazy, disconnected monsters—nothing more than screens and shallow interactions.\"}]"
      ]
     },
     "execution_count": 56,
     "metadata": {},
     "output_type": "execute_result"
    }
   ],
   "source": [
    "eris.history"
   ]
  },
  {
   "cell_type": "code",
   "execution_count": 54,
   "id": "7bad492c",
   "metadata": {},
   "outputs": [
    {
     "data": {
      "text/markdown": [
       "*adjusts toga and looks contemplative* Freewill is the cornerstone of human moral responsibility. Determinism is merely an illusion that absolves individuals of the profound agency that defines our humanity."
      ],
      "text/plain": [
       "<IPython.core.display.Markdown object>"
      ]
     },
     "metadata": {},
     "output_type": "display_data"
    }
   ],
   "source": [
    "socrates = Socrates(model_name='claude-3-5-haiku-latest')\n",
    "socrates_reply = socrates.stream(\"Freewill or determinism?\")\n",
    "display_stream(socrates_reply)"
   ]
  },
  {
   "cell_type": "code",
   "execution_count": 55,
   "id": "254216a9",
   "metadata": {},
   "outputs": [
    {
     "data": {
      "text/plain": [
       "[{'role': 'user', 'content': 'Freewill or determinism?'},\n",
       " {'role': 'assistant',\n",
       "  'content': '*adjusts toga and looks contemplative* Freewill is the cornerstone of human moral responsibility. Determinism is merely an illusion that absolves individuals of the profound agency that defines our humanity.'}]"
      ]
     },
     "execution_count": 55,
     "metadata": {},
     "output_type": "execute_result"
    }
   ],
   "source": [
    "socrates.history"
   ]
  },
  {
   "cell_type": "markdown",
   "id": "272326a7",
   "metadata": {},
   "source": [
    "### Real Battle"
   ]
  },
  {
   "cell_type": "code",
   "execution_count": null,
   "id": "ae7fb1ef",
   "metadata": {},
   "outputs": [],
   "source": [
    "def start_conversation(n_rounds=5):\n",
    "    \"\"\"\n",
    "    Start a conversation between Socrates and Eris for a given number of rounds.\n",
    "    \"\"\"\n",
    "    socrates = Socrates()\n",
    "    eris = Eris()\n",
    "\n",
    "    socrates_reply = \"What is the nature of justice?\"\n",
    "    display(Markdown(socrates_reply))\n",
    "    display(Markdown(\"**Socrates:**\"))\n",
    "\n",
    "    for n in range(n_rounds):\n",
    "        if n % 2 == 0:\n",
    "            display(Markdown(\"**Eris:**\"))\n",
    "            eris.history = socrates.history.copy()\n",
    "            eris_generator = eris.stream(socrates_reply)\n",
    "            eris_reply = stream(eris_generator)  # This also updates eris.history\n",
    "        else:\n",
    "            display(Markdown(\"**Socrates:**\"))\n",
    "            socrates.history = eris.history.copy()\n",
    "            socrates_generator = socrates.stream(eris_reply)\n",
    "            socrates_reply = stream(socrates_generator)  # This also updates socrates.history\n",
    "\n",
    "    return socrates, eris"
   ]
  },
  {
   "cell_type": "code",
   "execution_count": 82,
   "id": "6bf4ac25",
   "metadata": {},
   "outputs": [
    {
     "data": {
      "text/markdown": [
       "What is the nature of justice?"
      ],
      "text/plain": [
       "<IPython.core.display.Markdown object>"
      ]
     },
     "metadata": {},
     "output_type": "display_data"
    },
    {
     "name": "stdout",
     "output_type": "stream",
     "text": [
      "Socrates: \n",
      "Eris: \n"
     ]
    },
    {
     "data": {
      "text/markdown": [
       "Justice? Please, it's just a fancy word for conformity—boring and oppressive. Real life demands chaos, not some tidy, overrated concept dreamed up by philosophers!"
      ],
      "text/plain": [
       "<IPython.core.display.Markdown object>"
      ]
     },
     "metadata": {},
     "output_type": "display_data"
    },
    {
     "name": "stdout",
     "output_type": "stream",
     "text": [
      "Socrates: \n"
     ]
    },
    {
     "data": {
      "text/markdown": [
       "\n",
       "[Claude streaming error: {'type': 'error', 'error': {'details': None, 'type': 'overloaded_error', 'message': 'Overloaded'}}]"
      ],
      "text/plain": [
       "<IPython.core.display.Markdown object>"
      ]
     },
     "metadata": {},
     "output_type": "display_data"
    },
    {
     "name": "stdout",
     "output_type": "stream",
     "text": [
      "Eris: \n"
     ]
    },
    {
     "data": {
      "text/markdown": [
       "Oh, how charming—an error to dodge the truth! If chaos truly reigns, then why bother with justice at all?"
      ],
      "text/plain": [
       "<IPython.core.display.Markdown object>"
      ]
     },
     "metadata": {},
     "output_type": "display_data"
    }
   ],
   "source": [
    "socrates, eris = start_conversation(3)"
   ]
  }
 ],
 "metadata": {
  "kernelspec": {
   "display_name": ".venv",
   "language": "python",
   "name": "python3"
  },
  "language_info": {
   "codemirror_mode": {
    "name": "ipython",
    "version": 3
   },
   "file_extension": ".py",
   "mimetype": "text/x-python",
   "name": "python",
   "nbconvert_exporter": "python",
   "pygments_lexer": "ipython3",
   "version": "3.12.2"
  }
 },
 "nbformat": 4,
 "nbformat_minor": 5
}
