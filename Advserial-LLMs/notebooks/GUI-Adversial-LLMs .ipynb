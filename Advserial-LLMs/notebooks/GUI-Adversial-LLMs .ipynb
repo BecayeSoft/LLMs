{
 "cells": [
  {
   "cell_type": "markdown",
   "id": "06cf3063-9f3e-4551-a0d5-f08d9cabb927",
   "metadata": {},
   "source": [
    "# Claude vs GPT\n",
    "\n",
    "**Improvements**\n",
    "- Pause the convo and continue without restarting."
   ]
  },
  {
   "cell_type": "code",
   "execution_count": 5,
   "id": "de23bb9e-37c5-4377-9a82-d7b6c648eeb6",
   "metadata": {},
   "outputs": [
    {
     "ename": "ImportError",
     "evalue": "cannot import name 'TestSocrates' from 'src.test_chatbot' (c:\\Users\\becaye.balde\\Desktop\\GitHub\\LLMs\\Advserial-LLMs\\notebooks\\..\\src\\test_chatbot.py)",
     "output_type": "error",
     "traceback": [
      "\u001b[31m---------------------------------------------------------------------------\u001b[39m",
      "\u001b[31mImportError\u001b[39m                               Traceback (most recent call last)",
      "\u001b[36mCell\u001b[39m\u001b[36m \u001b[39m\u001b[32mIn[5]\u001b[39m\u001b[32m, line 5\u001b[39m\n\u001b[32m      2\u001b[39m sys.path.append(\u001b[33m\"\u001b[39m\u001b[33m..\u001b[39m\u001b[33m\"\u001b[39m)\n\u001b[32m      4\u001b[39m \u001b[38;5;28;01mfrom\u001b[39;00m\u001b[38;5;250m \u001b[39m\u001b[34;01msrc\u001b[39;00m\u001b[34;01m.\u001b[39;00m\u001b[34;01mchatbot\u001b[39;00m\u001b[38;5;250m \u001b[39m\u001b[38;5;28;01mimport\u001b[39;00m Socrates, Eris\n\u001b[32m----> \u001b[39m\u001b[32m5\u001b[39m \u001b[38;5;28;01mfrom\u001b[39;00m\u001b[38;5;250m \u001b[39m\u001b[34;01msrc\u001b[39;00m\u001b[34;01m.\u001b[39;00m\u001b[34;01mtest_chatbot\u001b[39;00m\u001b[38;5;250m \u001b[39m\u001b[38;5;28;01mimport\u001b[39;00m TestSocrates, TestEris\n\u001b[32m      7\u001b[39m \u001b[38;5;28;01mfrom\u001b[39;00m\u001b[38;5;250m \u001b[39m\u001b[34;01mIPython\u001b[39;00m\u001b[34;01m.\u001b[39;00m\u001b[34;01mdisplay\u001b[39;00m\u001b[38;5;250m \u001b[39m\u001b[38;5;28;01mimport\u001b[39;00m Markdown, display\n\u001b[32m      8\u001b[39m \u001b[38;5;28;01mimport\u001b[39;00m\u001b[38;5;250m \u001b[39m\u001b[34;01mgradio\u001b[39;00m\u001b[38;5;250m \u001b[39m\u001b[38;5;28;01mas\u001b[39;00m\u001b[38;5;250m \u001b[39m\u001b[34;01mgr\u001b[39;00m\n",
      "\u001b[31mImportError\u001b[39m: cannot import name 'TestSocrates' from 'src.test_chatbot' (c:\\Users\\becaye.balde\\Desktop\\GitHub\\LLMs\\Advserial-LLMs\\notebooks\\..\\src\\test_chatbot.py)"
     ]
    }
   ],
   "source": [
    "import sys\n",
    "sys.path.append(\"..\")\n",
    "\n",
    "from src.chatbot import Socrates, Eris\n",
    "from src.test_chatbot import TestSocrates, TestEris\n",
    "\n",
    "from IPython.display import Markdown, display\n",
    "import gradio as gr\n",
    "import time\n",
    "import random"
   ]
  },
  {
   "cell_type": "markdown",
   "id": "42f77b59-2fb1-462a-b90d-78994e4cef33",
   "metadata": {},
   "source": [
    "## Debate: Claude VS GPT"
   ]
  },
  {
   "cell_type": "code",
   "execution_count": 2,
   "id": "21d84a84",
   "metadata": {},
   "outputs": [],
   "source": [
    "def start_conversation(n_rounds):\n",
    "    \"\"\"\"\n",
    "    Starts a conversation between Socrates and Eris, yielding the conversation history after each round.\n",
    "    Args:\n",
    "        n_rounds (int): The number of rounds of conversation to simulate.\n",
    "    Yields:\n",
    "        list: A list of tuples representing the conversation history, where each tuple contains\n",
    "              (Socrates' reply, Eris' reply).\n",
    "    \"\"\"\n",
    "    socrates = Socrates()\n",
    "    eris = Eris()\n",
    "    history = []\n",
    "\n",
    "    # First message from Socrates\n",
    "    time.sleep(random.uniform(1.0, 3))\n",
    "    socrates_reply = socrates.ask(\"What is the nature of justice?\")\n",
    "    history.append((socrates_reply, None))\n",
    "    yield history\n",
    "\n",
    "    for i in range(n_rounds):\n",
    "        if i % 2 == 0:\n",
    "            # Eris replies\n",
    "            time.sleep(random.uniform(1.2, 1.8))\n",
    "            eris.history = socrates.history\n",
    "            eris_reply = eris.ask(socrates_reply)\n",
    "            history.append((None, eris_reply))\n",
    "            yield history\n",
    "        else:\n",
    "            # Socrates replies\n",
    "            time.sleep(random.uniform(1.0, 1.5))\n",
    "            socrates.history = eris.history\n",
    "            socrates_reply = socrates.ask(eris_reply)\n",
    "            history.append((socrates_reply, None))\n",
    "            yield history"
   ]
  },
  {
   "cell_type": "code",
   "execution_count": null,
   "id": "781e7b87",
   "metadata": {},
   "outputs": [
    {
     "name": "stderr",
     "output_type": "stream",
     "text": [
      "C:\\Users\\becaye.balde\\AppData\\Local\\Temp\\ipykernel_29532\\4189451921.py:8: UserWarning: You have not specified a value for the `type` parameter. Defaulting to the 'tuples' format for chatbot messages, but this is deprecated and will be removed in a future version of Gradio. Please set type='messages' instead, which uses openai-style dictionaries with 'role' and 'content' keys.\n",
      "  chatbox = gr.Chatbot(label=\"Debate Log\")\n"
     ]
    },
    {
     "name": "stdout",
     "output_type": "stream",
     "text": [
      "* Running on local URL:  http://127.0.0.1:7860\n",
      "* To create a public link, set `share=True` in `launch()`.\n"
     ]
    },
    {
     "data": {
      "text/html": [
       "<div><iframe src=\"http://127.0.0.1:7860/\" width=\"100%\" height=\"500\" allow=\"autoplay; camera; microphone; clipboard-read; clipboard-write;\" frameborder=\"0\" allowfullscreen></iframe></div>"
      ],
      "text/plain": [
       "<IPython.core.display.HTML object>"
      ]
     },
     "metadata": {},
     "output_type": "display_data"
    },
    {
     "data": {
      "text/plain": []
     },
     "execution_count": 3,
     "metadata": {},
     "output_type": "execute_result"
    },
    {
     "data": {
      "text/markdown": [
       "*Adjusts toga and looks thoughtfully* Is justice merely what benefits the powerful, or does it represent a deeper harmony within the soul and society? Tell me, what do you believe justice to be? And how can we know if our understanding is true?"
      ],
      "text/plain": [
       "<IPython.core.display.Markdown object>"
      ]
     },
     "metadata": {},
     "output_type": "display_data"
    },
    {
     "data": {
      "text/markdown": [
       "Oh, how charming—playing philosopher while the world crumbles. Justice? It’s just the universe’s way of making sure the clever don’t get caught, honey. Trust your gut? Sure, if your gut isn’t busy being a swamp of contradictions. Try not to overthink it; nobody really knows, and that’s what makes it so fun to argue about."
      ],
      "text/plain": [
       "<IPython.core.display.Markdown object>"
      ]
     },
     "metadata": {},
     "output_type": "display_data"
    },
    {
     "data": {
      "text/markdown": [
       "*Raises an eyebrow* \n",
       "\n",
       "By what measure do you claim that justice is merely clever concealment? Is not justice a principle that seeks to balance human interactions, to give each their due? \n",
       "\n",
       "Let us examine this carefully. If justice were simply the advantage of the powerful, would that not mean might makes right? And if so, how do we distinguish between justice and mere arbitrary force?\n",
       "\n",
       "I seek not to argue, but to understand. What evidence leads you to such a cynical view?"
      ],
      "text/plain": [
       "<IPython.core.display.Markdown object>"
      ]
     },
     "metadata": {},
     "output_type": "display_data"
    },
    {
     "data": {
      "text/markdown": [
       "Oh, darling, your earnestness is almost adorable. Evidence? Well, history is packed with the oppressor writing the rules and calling it justice—so much for balance! If justice were pure and fair, no one would need guardians of power dancing around it. But hey, keep trying to find that shining knight—while I enjoy the chaos of the real game."
      ],
      "text/plain": [
       "<IPython.core.display.Markdown object>"
      ]
     },
     "metadata": {},
     "output_type": "display_data"
    },
    {
     "data": {
      "text/markdown": [
       "*Leans forward, eyes piercing*\n",
       "\n",
       "Let us pause and reflect. You speak of chaos, yet you present chaos as your argument. Is not the very act of critiquing justice an implicit acknowledgment that a higher standard exists? \n",
       "\n",
       "If justice were merely the whim of power, why would you feel compelled to challenge it? Would that not suggest an innate human recognition of a more fundamental principle?\n",
       "\n",
       "Consider: When you say \"no one would need guardians,\" are you not simultaneously admitting that justice should exist, even as you claim it does not?\n",
       "\n",
       "*Waits calmly, inviting a deeper examination*"
      ],
      "text/plain": [
       "<IPython.core.display.Markdown object>"
      ]
     },
     "metadata": {},
     "output_type": "display_data"
    }
   ],
   "source": [
    "with gr.Blocks() as demo:\n",
    "    gr.Markdown(\"## ⚔️ Socrates vs. Eris\")\n",
    "\n",
    "    with gr.Row():\n",
    "        rounds = gr.Number(label=\"Rounds\", value=4, precision=0)\n",
    "        start_btn = gr.Button(\"Start Debate\")\n",
    "\n",
    "    chatbox = gr.Chatbot(label=\"Debate Log\")\n",
    "\n",
    "    def reset_chat():\n",
    "        return []\n",
    "\n",
    "    start_btn.click(fn=reset_chat, outputs=chatbox)\n",
    "    start_btn.click(fn=start_conversation, inputs=rounds, outputs=chatbox)\n",
    "\n",
    "demo.launch()\n"
   ]
  }
 ],
 "metadata": {
  "kernelspec": {
   "display_name": ".venv",
   "language": "python",
   "name": "python3"
  },
  "language_info": {
   "codemirror_mode": {
    "name": "ipython",
    "version": 3
   },
   "file_extension": ".py",
   "mimetype": "text/x-python",
   "name": "python",
   "nbconvert_exporter": "python",
   "pygments_lexer": "ipython3",
   "version": "3.12.2"
  }
 },
 "nbformat": 4,
 "nbformat_minor": 5
}
