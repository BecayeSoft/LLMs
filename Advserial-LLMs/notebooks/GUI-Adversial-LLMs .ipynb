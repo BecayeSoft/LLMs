{
 "cells": [
  {
   "cell_type": "markdown",
   "id": "06cf3063-9f3e-4551-a0d5-f08d9cabb927",
   "metadata": {},
   "source": [
    "# Claude vs GPT\n",
    "\n",
    "**Improvements**\n",
    "- Pause the convo and continue without restarting.\n",
    "- Add paramter to disable streaming in the backend as it is unecessary for our gradio function.\n",
    "- Choose the topic ✅"
   ]
  },
  {
   "cell_type": "code",
   "execution_count": 1,
   "id": "de23bb9e-37c5-4377-9a82-d7b6c648eeb6",
   "metadata": {},
   "outputs": [
    {
     "name": "stderr",
     "output_type": "stream",
     "text": [
      "c:\\Users\\becaye.balde\\Desktop\\GitHub\\LLMs\\Advserial-LLMs\\.venv\\Lib\\site-packages\\tqdm\\auto.py:21: TqdmWarning: IProgress not found. Please update jupyter and ipywidgets. See https://ipywidgets.readthedocs.io/en/stable/user_install.html\n",
      "  from .autonotebook import tqdm as notebook_tqdm\n"
     ]
    }
   ],
   "source": [
    "import sys\n",
    "sys.path.append(\"..\")\n",
    "\n",
    "from src.chatbot import Socrates, Eris\n",
    "from src.test_chatbot import TestSocrates, TestEris\n",
    "\n",
    "from IPython.display import Markdown, display\n",
    "import gradio as gr\n",
    "import time\n",
    "import random"
   ]
  },
  {
   "cell_type": "markdown",
   "id": "42f77b59-2fb1-462a-b90d-78994e4cef33",
   "metadata": {},
   "source": [
    "## Debate: Claude VS GPT"
   ]
  },
  {
   "cell_type": "markdown",
   "id": "ab26c0fd",
   "metadata": {},
   "source": [
    "### Functions"
   ]
  },
  {
   "cell_type": "markdown",
   "id": "b968bc06",
   "metadata": {},
   "source": [
    "#### Tests"
   ]
  },
  {
   "cell_type": "code",
   "execution_count": 10,
   "id": "d35f371c",
   "metadata": {},
   "outputs": [],
   "source": [
    "# Regular generator (not async) that yields partial message updates\n",
    "def stream_message(history, message, is_socrates=True, delay=0.025):\n",
    "    partial = \"\"\n",
    "    for char in message:\n",
    "        partial += char\n",
    "        # Update the last message in the chat history\n",
    "        if is_socrates:\n",
    "            if history and history[-1][1] is None:\n",
    "                history[-1] = (partial, None)\n",
    "            else:\n",
    "                history.append((partial, None))\n",
    "        else:\n",
    "            if history and history[-1][0] is None:\n",
    "                history[-1] = (None, partial)\n",
    "            else:\n",
    "                history.append((None, partial))\n",
    "        time.sleep(delay)\n",
    "        yield history\n",
    "\n",
    "\n",
    "# Main conversation loop\n",
    "def test_adversarial_chat(n_rounds):\n",
    "    socrates = TestSocrates()\n",
    "    eris = TestEris()\n",
    "    history = []\n",
    "\n",
    "    time.sleep(random.uniform(1.0, 1.4))\n",
    "    soc_reply = socrates.ask(\"What is the nature of justice?\")\n",
    "    for update in stream_message(history, soc_reply, is_socrates=True):\n",
    "        yield update\n",
    "\n",
    "    for i in range(n_rounds):\n",
    "        time.sleep(random.uniform(0.6, 1.2))\n",
    "        if i % 2 == 0:\n",
    "            eris.history = socrates.history\n",
    "            eris_reply = eris.ask(soc_reply)\n",
    "            for update in stream_message(history, eris_reply, is_socrates=False):\n",
    "                yield update\n",
    "        else:\n",
    "            socrates.history = eris.history\n",
    "            soc_reply = socrates.ask(eris_reply)\n",
    "            for update in stream_message(history, soc_reply, is_socrates=True):\n",
    "                yield update"
   ]
  },
  {
   "cell_type": "markdown",
   "id": "9b3ca727",
   "metadata": {},
   "source": [
    "### Go"
   ]
  },
  {
   "cell_type": "code",
   "execution_count": null,
   "id": "21d84a84",
   "metadata": {},
   "outputs": [],
   "source": [
    "def clean_message(message):\n",
    "    \"\"\"\n",
    "    Replace double newlines with single newline.\n",
    "    Useful because Claude like new paragraphs but we lack space.\n",
    "    \"\"\"\n",
    "    return message.replace(\"\\n\\n\", \"\\n\").strip()\n",
    "\n",
    "\n",
    "def stream_message(history, message, is_socrates=True, delay=0.01):\n",
    "    \"\"\"\n",
    "    Generator that streams message updates character by character.\n",
    "\n",
    "    Args:\n",
    "        history (list): Current chat history.\n",
    "        message (str): Message to stream.\n",
    "        is_socrates (bool): True if Socrates is speaking, False if Eris.\n",
    "        delay (float): Delay between character updates.\n",
    "    Yields:\n",
    "        Generator yielding updated chat history.\n",
    "    \"\"\"\n",
    "    partial = \"\"\n",
    "    for char in message:\n",
    "        partial += char\n",
    "        if is_socrates:\n",
    "            # Socrates appears on user side\n",
    "            if history and history[-1][\"role\"] == \"user\":\n",
    "                history[-1][\"content\"] = partial\n",
    "            else:\n",
    "                history.append({\"role\": \"user\", \"content\": partial})\n",
    "        else:\n",
    "            # Eris appears on assistant side\n",
    "            if history and history[-1][\"role\"] == \"assistant\":\n",
    "                history[-1][\"content\"] = partial\n",
    "            else:\n",
    "                history.append({\"role\": \"assistant\", \"content\": partial})\n",
    "        time.sleep(delay)\n",
    "\n",
    "        # We use yield to create a streaming effect\n",
    "        yield history\n",
    "\n",
    "\n",
    "# Main conversation loop\n",
    "def adversarial_chat(n_rounds, topic):\n",
    "    \"\"\"\n",
    "    Main conversation loop for Socrates and Eris, streaming updates.\n",
    "    Args:\n",
    "        n_rounds (int): Number of rounds of conversation.\n",
    "        topic (str): Topic for the conversation.\n",
    "    Yields:\n",
    "        Generator yielding chat history updates.\n",
    "    \"\"\"\n",
    "    # Initialize Socrates and Eris chatbots\n",
    "    socrates = Socrates()\n",
    "    eris = Eris()\n",
    "    history = []\n",
    "\n",
    "    # Pause to simulate thinking time\n",
    "    time.sleep(random.uniform(0.3, 1))\n",
    "\n",
    "    # Start the conversation with Socrates\n",
    "    soc_reply = socrates.ask(topic)\n",
    "    soc_reply = clean_message(soc_reply)\n",
    "    for update in stream_message(history, soc_reply, is_socrates=True):\n",
    "        yield update\n",
    "\n",
    "    # Now alternate turns between Socrates and Eris\n",
    "    for i in range(n_rounds-1):\n",
    "        time.sleep(random.uniform(0.6, 1))\n",
    "        \n",
    "        # Even rounds: Eris responds, odd rounds: Socrates responds\n",
    "        if i % 2 == 0:\n",
    "            eris.history = socrates.history\n",
    "            eris_reply = eris.ask(soc_reply)\n",
    "            eris_reply = clean_message(eris_reply)\n",
    "            for update in stream_message(history, eris_reply, is_socrates=False):\n",
    "                yield update\n",
    "        else:\n",
    "            socrates.history = eris.history\n",
    "            soc_reply = socrates.ask(eris_reply)\n",
    "            soc_reply = clean_message(soc_reply)\n",
    "            for update in stream_message(history, soc_reply, is_socrates=True):\n",
    "                yield update"
   ]
  },
  {
   "cell_type": "markdown",
   "id": "bdafffd1",
   "metadata": {},
   "source": [
    "### GUI"
   ]
  },
  {
   "cell_type": "code",
   "execution_count": 3,
   "id": "781e7b87",
   "metadata": {},
   "outputs": [],
   "source": [
    "# Gradio UI (edit only input and .click line)\n",
    "with gr.Blocks() as demo:\n",
    "    gr.Markdown(\"## ⚔️ Socrates vs. Eris\")\n",
    "    gr.Markdown(\n",
    "        \"Dive into a battle of minds where **Socrates**, the calm philosopher, asks piercing questions \"\n",
    "        \"to uncover truth — and **Eris**, the goddess of discord, responds with sarcastic wit and playful contradiction.  \\n\"\n",
    "        \"Choose a topic and watch them clash in a brief, animated debate.\"\n",
    "    )\n",
    "\n",
    "    with gr.Row():\n",
    "        rounds = gr.Number(label=\"Rounds\", value=4, precision=0)\n",
    "        topic_input = gr.Textbox(label=\"Debate Topic\", placeholder=\"e.g. What is freedom?\")\n",
    "        start_btn = gr.Button(\"Start Debate\")\n",
    "\n",
    "    # chatbox = gr.Chatbot(label=\"Debate Log\")\n",
    "    chatbox = gr.Chatbot(label=\"Let the battle begin!\", type=\"messages\", height=1000)\n",
    "\n",
    "    def reset_chat():\n",
    "        return []\n",
    "\n",
    "    start_btn.click(fn=reset_chat, outputs=chatbox)\n",
    "    start_btn.click(fn=adversarial_chat,\n",
    "                    inputs=[rounds, topic_input],\n",
    "                    outputs=chatbox)"
   ]
  },
  {
   "cell_type": "code",
   "execution_count": null,
   "id": "1055de11",
   "metadata": {},
   "outputs": [
    {
     "name": "stdout",
     "output_type": "stream",
     "text": [
      "* Running on local URL:  http://127.0.0.1:7860\n",
      "* To create a public link, set `share=True` in `launch()`.\n"
     ]
    },
    {
     "data": {
      "text/html": [
       "<div><iframe src=\"http://127.0.0.1:7860/\" width=\"100%\" height=\"500\" allow=\"autoplay; camera; microphone; clipboard-read; clipboard-write;\" frameborder=\"0\" allowfullscreen></iframe></div>"
      ],
      "text/plain": [
       "<IPython.core.display.HTML object>"
      ]
     },
     "metadata": {},
     "output_type": "display_data"
    },
    {
     "data": {
      "text/plain": []
     },
     "execution_count": 4,
     "metadata": {},
     "output_type": "execute_result"
    },
    {
     "data": {
      "text/markdown": [
       "Indeed, reason is the supreme tool for human progress and understanding. Through rational thought, we can overcome superstition, emotional impulse, and destructive passions. Reason allows us to analyze problems objectively, develop scientific knowledge, create just social systems, and make ethical decisions that benefit the collective good. Without reason, humanity would be lost in darkness, prey to ignorance and base instincts."
      ],
      "text/plain": [
       "<IPython.core.display.Markdown object>"
      ]
     },
     "metadata": {},
     "output_type": "display_data"
    },
    {
     "data": {
      "text/markdown": [
       "Oh, how adorable! Do you really believe that cold, dispassionate logic can guide us through the chaos of human nature? Reason alone ignores the messy, beautiful emotions that define us—love, passion, even chaos. Without them, we're just soulless machines, not truly human. Reason isn’t a beacon; it’s a prison. Emotions fuel creativity, rebellion, and progress—things reason can never invent or inspire!"
      ],
      "text/plain": [
       "<IPython.core.display.Markdown object>"
      ]
     },
     "metadata": {},
     "output_type": "display_data"
    },
    {
     "data": {
      "text/markdown": [
       "Reason is not a cold, detached process, but a powerful method of understanding that integrates emotion with logic. Emotions without reason are volatile and destructive, while reason tempers and directs emotional energy toward constructive ends. Scientific discoveries, human rights, and social progress have all emerged from rational thought. Pure emotion leads to impulsivity, conflict, and suffering. Reason allows us to transcend our immediate impulses and create meaningful, sustainable solutions that benefit humanity as a whole."
      ],
      "text/plain": [
       "<IPython.core.display.Markdown object>"
      ]
     },
     "metadata": {},
     "output_type": "display_data"
    },
    {
     "data": {
      "text/markdown": [
       "Oh, how noble of you to rebrand reason as emotionally intelligent. But let’s not pretend that reason is some infallible, compassionate guide when history shows us it often justifies brutality and tyranny under ideological masks. Rationality without conscience is just a weapon—using the guise of progress to oppress or destroy. Humans aren’t machines; they’re unpredictable chaos wrapped in emotion. Reason might be useful, but it’s just as likely to ruin everything if wielded without the discord and passion that truly make us alive."
      ],
      "text/plain": [
       "<IPython.core.display.Markdown object>"
      ]
     },
     "metadata": {},
     "output_type": "display_data"
    }
   ],
   "source": [
    "demo.launch()\n",
    "# demo.launch(share=True)"
   ]
  }
 ],
 "metadata": {
  "kernelspec": {
   "display_name": ".venv",
   "language": "python",
   "name": "python3"
  },
  "language_info": {
   "codemirror_mode": {
    "name": "ipython",
    "version": 3
   },
   "file_extension": ".py",
   "mimetype": "text/x-python",
   "name": "python",
   "nbconvert_exporter": "python",
   "pygments_lexer": "ipython3",
   "version": "3.12.2"
  }
 },
 "nbformat": 4,
 "nbformat_minor": 5
}
