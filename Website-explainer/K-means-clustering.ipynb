{
 "cells": [
  {
   "cell_type": "markdown",
   "metadata": {},
   "source": [
    "# Document Clustering with K-means  \n",
    "\n",
    "Some documents are too large and might not fit into an LLM's context window. We need to split it in chunks.\n",
    "\n",
    "In this notebook, we explore K-Means clustering to group similar (embbeded) sentences into clusters. \n",
    "\n",
    "**Pros**\n",
    "\n",
    "K-means has some advantages over other metohds:\n",
    "\n",
    "- Keep semantic coherence between sentences (unlike LangChain's splitter).\n",
    "\n",
    "**Cons**\n",
    "\n",
    "- We lose the order of the sentences because similar sentences might be far away from each other in the document.\n",
    "\n",
    "See \"Adjacent clustering\" for a solution to this problem.\n",
    "\n",
    "**TL;DR**\n",
    "\n",
    "While clustering is a good way to split large documents, it is not perfect. We can see that sentences are cut off, potentially important information and sentence order are lost, etc."
   ]
  },
  {
   "cell_type": "markdown",
   "metadata": {},
   "source": [
    "## Importing Libraries"
   ]
  },
  {
   "cell_type": "code",
   "execution_count": 38,
   "metadata": {},
   "outputs": [
    {
     "name": "stderr",
     "output_type": "stream",
     "text": [
      "[nltk_data] Downloading package punkt to\n",
      "[nltk_data]     C:\\Users\\balde\\AppData\\Roaming\\nltk_data...\n",
      "[nltk_data]   Package punkt is already up-to-date!\n",
      "[nltk_data] Downloading package stopwords to\n",
      "[nltk_data]     C:\\Users\\balde\\AppData\\Roaming\\nltk_data...\n",
      "[nltk_data]   Package stopwords is already up-to-date!\n"
     ]
    }
   ],
   "source": [
    "import openai\n",
    "import os\n",
    "from dotenv import load_dotenv, find_dotenv\n",
    "\n",
    "from PyPDF2 import PdfReader\n",
    "import urllib\n",
    "\n",
    "from langchain.document_loaders import UnstructuredHTMLLoader, BSHTMLLoader\n",
    "from langchain.vectorstores import DocArrayInMemorySearch\n",
    "from langchain.docstore.document import Document\n",
    "from langchain.indexes import VectorstoreIndexCreator\n",
    "from langchain.chains import RetrievalQA\n",
    "from langchain.embeddings import OpenAIEmbeddings\n",
    "from langchain.chat_models import ChatOpenAI\n",
    "\n",
    "from nltk.corpus import stopwords\n",
    "from nltk.tokenize import sent_tokenize, word_tokenize\n",
    "import nltk\n",
    "import string\n",
    "from sentence_transformers import SentenceTransformer\n",
    "from sklearn.cluster import KMeans\n",
    "\n",
    "from wordcloud import WordCloud\n",
    "import matplotlib.pyplot as plt\n",
    "\n",
    "nltk.download('punkt')\n",
    "nltk.download('stopwords')\n",
    "\n",
    "from IPython.display import display, Markdown, HTML"
   ]
  },
  {
   "cell_type": "code",
   "execution_count": 22,
   "metadata": {},
   "outputs": [],
   "source": [
    "# Load and set API key\n",
    "_ = load_dotenv(find_dotenv())\n",
    "openai.api_key = os.environ['OPENAI_API_KEY']\n",
    "\n",
    "model_name=\"gpt-3.5-turbo\""
   ]
  },
  {
   "cell_type": "markdown",
   "metadata": {},
   "source": [
    "**Download the webpage**\n",
    "\n",
    "To read the webpage\n",
    "\n",
    "```python\n",
    "file = urllib.request.urlopen(webpage)\n",
    "myfile = f.read()\n",
    "print(myfile.decode(\"utf-8\"))\n",
    "```"
   ]
  },
  {
   "cell_type": "markdown",
   "metadata": {},
   "source": [
    "## Clustering the document"
   ]
  },
  {
   "cell_type": "markdown",
   "metadata": {},
   "source": [
    "**Load the page with LangChain**"
   ]
  },
  {
   "cell_type": "code",
   "execution_count": 13,
   "metadata": {},
   "outputs": [],
   "source": [
    "# # Download the page\n",
    "# webpage = 'https://en.wikipedia.org/wiki/Artificial_intelligence'\n",
    "# webpage_path = 'data/artificial-intelligence.html'\n",
    "# urllib.request.urlretrieve(webpage, webpage_path)\n",
    "\n",
    "# # Create a loder for the page\n",
    "# loader = BSHTMLLoader(webpage_path, open_encoding='utf-8')\n",
    "# docs = loader.load()\n",
    "# docs"
   ]
  },
  {
   "cell_type": "markdown",
   "metadata": {},
   "source": [
    "**Load the PDF**"
   ]
  },
  {
   "cell_type": "code",
   "execution_count": 4,
   "metadata": {},
   "outputs": [
    {
     "name": "stderr",
     "output_type": "stream",
     "text": [
      "[nltk_data] Downloading package punkt to\n",
      "[nltk_data]     C:\\Users\\balde\\AppData\\Roaming\\nltk_data...\n",
      "[nltk_data]   Package punkt is already up-to-date!\n"
     ]
    },
    {
     "data": {
      "text/plain": [
       "'A survey study of success factors in data science projects\\nIñigo Martinez\\nVicomtech Foundation\\nBasque Research and Technology Alliance\\nDonostia-San Sebastián 20009, Spain\\nimartinez@vicomtech.orgElisabeth Viles\\nUniversity of Navarra\\nTECNUN School of Engineering\\nDonostia-San Sebastián 20018, Spain\\neviles@tecnun.esIgor G Olaizola\\nVicomtech Foundation\\nBasque Research and Technology Alliance\\nDonostia-San Sebastián 20009, Spain\\niolaizola@vicomtech.org\\nAbstract —In recent years, the data science community has\\npursued excellence and made signiﬁcant research efforts to de-\\nvelop advanced analytics, focusing on solving technical problems\\nat the expense of organizational and socio-technical challenges.\\nAccording to previous surveys on the state of data science project\\nmanagement, there is a signiﬁcant gap between technical and\\norganizational processes. In this article we present new empirical\\ndata from a survey to 237 data science professionals on the\\nuse of project management methodologies for data science. We\\nprovide additional proﬁling of the survey respondents’ roles and\\ntheir priorities when executing data science projects. Based on\\nthis survey study, the main ﬁndings are: (1) Agile data science\\nlifecycle is the most widely used framework, but only 25% of\\nthe survey participants state to follow a data science project\\nmethodology. (2) The most important success factors are precisely\\ndescribing stakeholders’ needs, communicating the results to end-\\nusers, and team collaboration and coordination. (3) Professionals\\nwho adhere to a project methodology place greater emphasis\\non the project’s potential risks and pitfalls, version control, the\\ndeployment pipeline to production, and data security and privacy.\\nIndex Terms —data science, survey, project management, factor\\nanalysis, success factors\\nI. I NTRODUCTION\\nIn recent years, the data science (DS) community has\\npursued excellence and made signiﬁcant research efforts to\\ndevelop advanced analytics, focusing on solving technical\\nproblems at the expense of organizational and socio-technical\\nchallenges. Developing and successfully implementing a data\\nscience project to business processes pose signiﬁcant chal-\\nlenges to companies. According to VentureBeat [1], 87%\\nof data science projects never make it into production, and\\na NewVantage survey [2] found that adoption of big data\\nand artiﬁcial intelligence (AI) initiatives remain a signiﬁcant\\nchallenge for 77% of businesses. In fact, 70% of companies\\nreport minimal or no impact from AI [3]. Gartner [4] also\\nreported that 80% of analytics insights will fail to deliver\\nbusiness outcomes by 2022, and 80% of data science projects\\nwill “remain alchemy, run by wizards”. These low success\\nrates in data science projects are indeed noteworthy given the\\ncompetitive advantage that such advanced techniques provide\\nto researchers and practitioners.\\nLeveraging data science within a business organizational\\ncontext involves organizational and socio-technical challenges\\nbeyond the analytical ones: a lack of vision, strategy andclear objectives, a biased emphasis on technical issues, a\\nlack of reproducibility, and role ambiguity are among these\\nchallenges, which lead to a low level of maturity in data\\nscience projects, that are managed in an ad-hoc fashion. The\\nlack of a deﬁned process methodology to manage data science\\nprojects is one of the primary reasons for these challenges. [5].\\nSeveral surveys [6]–[9] have been conducted to collect\\nempirical data on the state of data science project management\\nin both industry and research. According to the ﬁndings of\\nthese surveys, there is a signiﬁcant gap between technical and\\norganizational processes when applied to data science projects.\\nIn this article, we present new empirical data from a\\nsurvey to 237 data science professionals on the use of project\\nmanagement methodologies for data science. Furthermore, we\\nprovide additional proﬁling of the survey respondents’ roles\\n(data scientist, data engineer, business analyst, etc.) and their\\npriorities when executing data science projects.\\nThe rest of the article is structured as follows: Background\\ncontext is presented in Section II, along with organizational\\nand socio-technical challenges that arise when executing a\\ndata science project. Section III describes the methodology\\nfor the survey. Section IV presents and discusses the results\\nobtained from the survey and ﬁnally, Section V describes the\\nmain conclusions of the paper.\\nII. B ACKGROUND CONTEXT\\nData science is a multidisciplinary ﬁeld that lies between\\ncomputer science, mathematics and statistics, and comprises\\nthe use of scientiﬁc methods and techniques, to extract\\nknowledge and value from large amounts of structured and/or\\nunstructured data. After several decades of progress, data\\nscience and machine learning technology are called to become\\na signiﬁcant source of value for a wide range of businesses\\n[10], [11]. However, these recent technological achievements\\ndo not correspond to their application to real-world data\\nscience projects. Data scientists are struggling to deploy their\\nmodels into business processes. Evidence suggests that the\\ngap is widening between organizations successfully gaining\\nvalue from data science and those struggling to do so [12].\\nSigniﬁcant challenges remain unsolved, and many artiﬁcial\\nintelligence initiatives fail.\\n978-1-6654-3902-2/21/$31.00 ©2021 IEEE\\n©2021 IEEE. Personal use of this material is permitted. Permission from IEEE must be obtained for all other uses, in any\\ncurrent or future media, including reprinting/republishing this material for advertising or promotional purposes, creating new\\ncollective works, for resale or redistribution to servers or lists, or reuse of any copyrighted component of this work in other works.arXiv:2201.06310v1  [cs.DB]  17 Jan 2022 Team Management Project Management Data & Information Management\\nPoor coordination Low level of process maturity Lack of reproducibility\\nCollaboration issues across teams Uncertain business objectives Retaining and accumulation of knowledge\\nLack of transparent communication Setting adequate expectations Low data quality for ML\\nInefﬁcient governance models Hard to establish realistic project timelines Lack of quality assurance checks\\nLack of people with analytics skills Biased emphasis on technical issues No validation data\\nRely not only on leading data scientist Delivering the wrong thing Data security and privacy\\nBuild multidisciplinary teams Project not used by business Investment in IT infrastructure\\nTABLE I\\nDATA SCIENCE PROJECTS MAIN CHALLENGES\\nTable I summarizes the main challenges faced by data sci-\\nence professionals when executing real data science projects.\\nEven though these issues do exist in real-world data science\\nprojects, the community has not been overly concerned about\\nthem [5], [13], and there is a wide consensus that not enough\\nhas been written about solutions to tackle these problems [14].\\nSome authors and companies have proposed methodologies\\nfor managing data science projects, and have come up with\\nnew tools and processes to address the cited issues. The\\nmost popular frameworks in this regard are: CRISP-DM [15],\\nMicrosoft TDSP [16], Agile DS Lifecycle [17], Domino\\nDS Lifecycle [18], IBM FMDS [19], RAMSYS [20], and\\nMIDST [21]. An extensive critical review over 19 data science\\nmethodologies was presented in [14].\\nHowever, while the proposed solutions are leading the\\nway in addressing these organizational and socio-technical\\nchallenges, the reality is that data science projects are not\\ntaking advantage of such methodologies and frameworks.\\nAccording to a survey [22] carried out in 2018 to professionals\\nfrom both industry and non-proﬁt organizations, 82% of the\\nrespondents did not follow an explicit process methodology\\nfor developing data science projects, and equally important,\\n85% of the respondents considered that using an improved\\nand more consistent process would result in more effective\\ndata science projects. Furthermore, a survey conducted to\\nnearly 800 data and analytics leaders by Corinium Intelligence\\n[7] found that only 48% of data science organizations have\\nestablished standardized processes.\\nConsidering a survey from KDnuggets in 2014 [6], the main\\nmethodology used by 43% of respondents was CRISP-DM.\\nThis methodology has been consistently the most commonly\\nused for analytics, data mining, and data science projects, for\\neach KDnuggets poll starting in 2002 up through the most\\nrecent 2014 poll [8]. Recently, Saltz [9] conducted a survey\\nto 109 respondents to gather information about what project\\nmanagement framework teams used to help them execute\\ndata science projects. CRISP-DM is used by nearly half of\\nall respondents. Scrum, Kanban, and customized processes\\nfollowed.\\nAccording to the results of these surveys, the percentage of\\npeople using CRISP-DM has not changed signiﬁcantly over\\nthe last 20 years, indicating that technology has advanced\\nmuch faster than organizational processes for handling data\\nscience projects.III. M ETHODS\\nTo better understand the use of project management method-\\nologies and the priorities of data science professionals during\\nproject execution, a cross-sectional quantitative survey was\\nconducted. This survey focused on understanding the pro-\\nfessional proﬁle of the respondents ( Q1\\x00Q5), the type of\\nprojects they carry out ( Q6\\x00Q8), the most important factors\\nto successfully develop a DS project Q9and whether they use\\nany project methodology Q10\\x00Q11(Table II). In total 237\\nprofessionals from industry and research organizations were\\nsurveyed during September 2021. Participants accessed the\\nsurvey via the LinkedIn professional network.\\nQuestion Fig.\\nQ1 In what country do you work? A.1\\nQ2 Which title best describes your role? A.2\\nQ3 Which is your job experience level? 1\\nQ4 Who are the stakeholders of your work projects? 1\\nQ5 What is your gender? 1\\nQ6 Average project duration (<3, <6, >6 months) 1\\nQ7 Do you usually work in group or individually? 1\\nQ8 Magnitude of the project (local/national/international) 1\\nQ9 How relevant are these factors for the\\ndevelopment of data science projects?3\\nQ10 Do you usually follow some data\\nscience project methodology?1\\nQ11 Select the methodologies you know about\\nand/or have used for your data science projects2\\nTABLE II\\nSURVEY QUESTIONS\\nIV. R ESULTS\\nThe results of the survey are presented and discussed in\\nthis section. First, the respondents’ professional proﬁles are\\nexamined. The use of data science methodologies is then\\ninvestigated, and ﬁnally, the relevance scores assigned to\\nﬁfteen success factors are presented.\\nA. Professional proﬁles\\nThe survey included professionals from 35 different coun-\\ntries, the majority of whom work in the United States of\\nAmerica or Spain. Among the survey respondents, 27% were\\ndata scientists, 14% data engineers, 12% business analysts,\\n12% data analysts, 11% machine learning engineers and 6%\\nsoftware developers. Figures A.1 and A.2 show a detailed view\\nof work-country and professional-roles respectively. 38.8% 18.1% 39.2%\\n25.3% 28.7% 21.9% 24.1%\\n67.5% 28.7%\\n41.4% 19.8% 35%\\n9.3%11.4% 77.6%\\n28.7% 17.7%7.2% 46.4%\\n8% 77.6% 14.3%NAFrom 3 to 6\\nmonthsLess than 3\\nmonthsMore than 6\\nmonths\\nNADepends on the\\nproject No Yes\\nNA Group Individually\\nNA International Local National\\nNA Female Male Other\\nAssociate/Mid Entry Executive Senior\\nAcademic\\ninstitutionsBusiness\\norganizationsTechnological\\ninstitutionsWho are the\\nstakeholders of your\\nwork projects?Which is your job\\nexperience level?What is your gender?Magnitude of the\\nprojectDo you usually\\nwork in group or\\nindividually?Do you usually\\nfollow some Data\\nScience project\\nmethodology?Average project\\nduration\\n0 50 100 150 200\\nSurvey RespondentsQuestionFig. 1. Survey results to additional questions Q3\\x00Q8;Q10. NA means \"Not\\nAnswer\" .\\nThe vast majority of respondents (77%) identiﬁed as male.\\nThe level of job experience among the professionals polled\\nwas distributed as follows: 46% senior, 28% associate, 18%\\nentry-level, and 7% executive. Hence, more than half of the\\nsurveyed professionals have many years of experience under\\nthe belt.\\nWith regard to project characteristics, nearly 40% of the\\nrespondents say a project usually takes more than 6 months\\nto complete, while another 40% says it takes between 3 to\\n6 months. This may suggest that long projects are the norm\\nin the ﬁeld of data science. In terms of projects magnitude,\\n42% of the professionals work on international projects, 35%\\non national and 20% on local projects. This implies that\\nthe majority of data science projects are large and involve\\na large number of stakeholders, who in the case of this\\nsurvey are mostly business organizations (77%). With respect\\nto teamwork, 68% of the professionals polled say they usually\\nwork in groups, with 29% working individually. This shows\\nthe importance of coordination, transparent communication,\\nand collaboration among individuals and teams for the success\\nof DS projects. See Figure 1 for a detailed view on these\\nmatters.\\nB. Data science methodologies\\nWith regard to data science methodologies, Agile DS Lifecy-\\ncleis the most widely used framework, followed by CRISP-\\nDM and Microsoft TDSP (Figure 2). Few people use their\\nin-house methodology. However, it is remarkable to see that\\nonly 25% of the participants are aware of CRISP-DM , whereas\\n65% of them know about Agile DS Lifecycle .\\n65.5 %\\n24.3 %\\n16.4 %\\n20.3 %\\n20.3 %\\n13.6 %\\n13 %34.5 %\\n75.7 %\\n83.6 %\\n79.7 %\\n79.7 %\\n86.4 %\\n87 %45.2 %\\n13.6 %\\n7.3 %54.8 %\\n86.4 %\\n98.3 %\\n98.3 %\\n92.7 %\\n97.7 %\\n99.4 %RAMSYSMIDSTMicrosoft TDSPIBM FMDSDomino DS LifecycleCRISP−DMAgile DS Lifecycle\\n0 50 100 150\\nSurvey RespondentsMethodologyKnow about it Did not know Used it Did not useFig. 2. Survey results to the use of methodologies for data science projects\\n(question Q11)\\nThe fact that 75% of the respondents are unaware of\\nCRISP-DM may indicate a different trend in the use of this\\nmethodology when compared with data collected in previous\\nsurveys [6], [9], with around 45% use of CRISP-DM. Other\\nfactors, such as the number of respondents and the distribution\\nof their professional proﬁles, may have skewed these ﬁndings.\\nAn extensive survey could help to reduce this uncertainty.\\nFurthermore, only 25% of the survey participants state\\nthey use some kind of data science project methodology, and\\nanother 29% say it depends on the project. Moreover, the\\nnumber of NA (not answer) responses may suggest that the\\nproportion of people using a DS methodology is less than\\n25%. In any case, this low percentage demonstrates the lack\\nof a deﬁned process methodology for managing data science\\nprojects, which has been recognized as one of the primary\\ncauses for current failures and management challenges.\\nC. Success factors\\nQuestion Q9requested survey participants to evaluate the\\nimportance of ﬁfteen factors for the development and success\\nof data science projects. These factors are thought to contribute\\nto the project’s success in meeting its objectives, and were\\nselected based on an analysis of current challenges in data\\nscience projects [14]. The scoring system followed a 5 point\\nLikert scale, from 1 (not important at all) to 5 (absolutely\\nessential). Figure 3 shows the distribution of the scores, along\\nwith the weighted average and standard deviation for each\\nfactor. The factors are listed in descending order (from top\\nto bottom in the ﬁgure) based on their weighted average\\nscore. The top three most important success factors are to\\n1)precisely describe stakeholders needs , 2) communicate 8.4% 28.9% 55.8%\\n22.1% 37.4% 25.3% 9.5%12.1% 18.9% 27.9% 34.7%\\n11.1% 32.6% 32.6% 20.5%10% 32.1% 35.3% 20%12.6% 22.1% 32.6% 30%21.1% 38.9% 32.6%\\n8.9% 28.9% 33.2% 26.3%\\n7.9% 34.7% 36.3% 18.9%18.4% 45.3% 28.4%8.4% 32.1% 54.2%\\n18.4% 43.2% 32.1%18.9% 44.7% 32.1%\\n29.5% 40% 22.1%7.9% 18.9% 35.3% 34.2%4.32 ± 0.94\\n3.11 ± 1.043.73 ± 1.23\\n3.56 ± 1.033.60 ± 1.003.75 ± 1.103.95 ± 0.95\\n3.72 ± 1.03\\n3.62 ± 0.953.92 ± 0.954.34 ± 0.88\\n3.99 ± 0.914.04 ± 0.85\\n3.73 ± 0.973.88 ± 1.08Weighted\\nAvg ± Std\\nData augmentation or metadata enrichmentData visualization toolsDefine a data lifecycle workflowHarness knowledge for future workEstablishing timelines and deliverablesData security and privacyUnderstanding each team member skills and roleDeployment pipeline to productionVersion control for code, data & modelsIdentify project potential risks and pitfallsDevelop a strategy to meet project requirementsProactive team communicationTeam collaboration and coordinationCommunicating the results to end−usersPrecisely describe stakeholders needs\\n0 50 100 150\\nSurvey RespondentsFactor5−Absolutely essential 4−Very important 3−Moderately important 2−Little importance 1−Not important at allFig. 3. Survey results to \"how relevant are these factors for the development of data science projects?\" question Q9. The scoring weights range from 1 (not\\nimportant at all) to 5 (absolutely essential). The weighted average and standard deviation are calculated based on the response count and the weight for the\\nanswer choice.\\nthe results to end-users , and 3) team collaboration and\\ncoordination . The less important ones, on the other hand,\\naredata augmentation ,data visualization tools and deﬁning\\ndata life-cycle workﬂow . It is also worth noting the factors\\nwith the highest standard deviations: deployment pipeline to\\nproduction anddata security and privacy had more variance\\nin their scores, which could indicate that professionals have\\ndiffering views on the importance of these factors.\\nFurthermore, an additional analysis of these scores was\\nperformed to determine whether there were any signiﬁcant dif-\\nferences between professionals who use a project methodology\\nand those who do not. Using the responses from question Q10\\n(Do you usually follow a data science project methodology? ),\\nthe weighted average scores were computed for each choice\\n(Yes / No / Depends on the project ), which are shown in\\nFigure 4. The orange asterisk on the right side indicates a\\nsigniﬁcant difference between the YesandNocases, based on\\nMann-Whitney U-test. Statistical tests are performed using R\\nv3.6.3 [23]. Professionals who follow a project methodology\\ngive more importance to a) the project’s potential risks and\\npitfalls, b) version control, c) the deployment pipeline to\\nproduction, and d) data security and privacy.D. Common factor analysis\\nUsing the results from question Q9, common factor analysis\\nwas conducted to see if there were are any latent variables in\\nthe data, i.e., groups of factors that were answered similarly\\nbased on the survey participants’ scores.\\nTo begin, Bartlett’s test of sphericity and the Kaiser-Meyer-\\nOlkin measure of sampling adequacy were used to check\\nwhether any meaningful latent factors could be found within\\nthe data. The parallel analysis method was then used to\\ndetermine the number of factors, which resulted in 3 factors.\\nThe results of the common factor analysis are shown in\\nFigure 5 (in blue color). Prior to the survey’s public release,\\neach of the ﬁfteen factors was weighted and classiﬁed based\\non three distinct and speciﬁc latent dimensions (in yellow).\\nThese latent variables were selected based on a previous\\npaper by the authors [14], which proposes the principles of\\nan integral methodology for data science that should include\\nthree foundation stones: team, data and project management.\\nMore information on the proposed principles for integral\\nmethodologies can be found in section 5 (discussion) of [14].\\nComparing the results from the common factor analysis with\\nthe authors’ a priori determined weights, it can be observed 4.26 4.25 4.47\\n3.04 3.10 3.233.63 3.52 3.91\\n3.51 3.56 3.653.54 3.52 3.823.79 3.54 3.963.88 4.10 4.02\\n3.51 3.85 3.82\\n3.49 3.75 3.653.88 3.77 4.194.21 4.40 4.46\\n3.96 4.00 4.044.04 3.98 4.12\\n3.69 3.75 3.813.74 3.73 4.21\\n✱✱✱✱\\nData augmentation or metadata enrichmentData visualization toolsHarness knowledge for future workDeﬁne a data lifecycle workﬂowData security and privacyEstablishing timelines and deliverablesUnderstanding each team member skills\\nand roleDeployment pipeline to productionVersion control for code, data & modelsIdentify project potential risks and\\npitfallsProactive team communicationDevelop a strategy to meet project\\nrequirementsTeam collaboration and coordinationCommunicating the results to end-usersPrecisely describe stakeholders needs\\n3.0 3.5 4.0 4.5\\nScoreFactorProfessionals address to DS methodology Yes No Depends on the projectFig. 4. Comparison of weighted average scores between people who follow\\n(and do not) follow any data science project methodology. The orange asterisk\\non the right side indicates a signiﬁcant difference between the YesandNo\\ncases, based on Mann-Whitney U-test.\\nthat the ﬁrst factor is related to the team management facet,\\nthe second to the data management aspect and the third\\nto the project management . Hence, based on the relevance\\nscores provided by the survey participants and the conducted\\nfactor analysis, it can be concluded that there are three latent\\nvariables and, in addition, these coincide with the a priori set\\nvalues based on the proposed framework [14].\\nV. C ONCLUSIONS\\nThis article presents new empirical data from a survey to\\n237 data science professionals on the use of project manage-\\nment methodologies for data science. Several aspects of survey\\nrespondents’ work as data science professionals were evalu-\\nated, including their experience level and role (data scientist,\\ndata engineer, business analyst, etc.), projects characteristics\\n(magnitude, duration) and their priorities when executing data\\nscience projects. Regarding the limitations of the presented\\nstudy, note there may be a bias due to the survey’s non-\\nprobabilistic design.\\nAccording to this survey study, the most widely used\\nframework is Agile DS lifecycle , which has surpassed the\\nlong-standing CRISP-DM methodology. However, only 25%\\nof the survey participants state to follow a data science project\\nmethodology. This low percentage shows the lack of a deﬁned\\nprocess methodology for managing data science projects,\\nwhich has been identiﬁed as one of the primary causes for\\ncurrent failures and management challenges. With regard to\\nthe study of the success factors, based on the scores gathered,\\nthe most important factors are (1) precisely describing stake-\\nFactor 1 (Team) Factor 2 (Data) Factor 3 (Project)\\n0.00.5 0.00.5 0.00.5Communicating the results to end−usersData augmentation or metadata enrichmentData security and privacyData visualization toolsDefine a data lifecycle workflowDeployment pipeline to productionDevelop a strategy to meet project requirementsEstablishing timelines and deliverablesHarness knowledge for future workIdentify project potential risks and pitfallsPrecisely describe stakeholders needsProactive team communicationTeam collaboration and coordinationVersion control for code, data & models\\nNormalized loadingsFactor\\nA priori assigned Factor analysisFig. 5. Factor analysis loadings. Comparison with preassigned weights prior\\nto the survey.\\nholders’ needs, (2) communicating the results to end-users,\\nand (3) team collaboration and coordination. Furthermore, a\\nstatistical analysis of the scores revealed that professionals\\nwho adhere to a project methodology place a greater emphasis\\non the project’s potential risks and pitfalls, version control,\\nthe deployment pipeline to production, and data security and\\nprivacy. The obtained scores were subjected to a common\\nfactor analysis, which revealed three latent factors. Comparing\\nthe results from the common factor analysis with a priori\\ndetermined weights, the ﬁrst factor was related to the team\\nmanagement facet, the second to the data management aspect\\nand the third to the project management.\\nTherefore, this survey reinforces the notion that the three\\nmost important factors for successful DS projects are project\\ndevelopment, teamwork, and data management. The latter is\\nalso most valued by those professionals who use DS method-\\nologies. However, the methodologies that attempt to address\\nthese three factors and were best valued according to the\\nprinciples of an integral methodology in [14] are hardly known\\nand used. There is still a need for greater dissemination of the\\nmethodologies that reinforce these factors or for improving\\nand incorporating such factors into the most widely used\\nmethodologies.\\nREFERENCES\\n[1] VentureBeat, “Why do 87% of data science projects never make it into\\nproduction?” 2019.\\n[2] New Vantage, “NewVantage Partners 2019 Big Data and AI Executive\\nSurvey,” 2019.\\n[3] S. K. Sam Ransbotham, “Winning with ai,” Oct 2019. [Online].\\nAvailable: https://sloanreview.mit.edu/projects/winning-with-ai/\\n[4] Gartner, “Taking a First Step to Advanced Analytics.” [5] J. S. Saltz, “The need for new processes, methodologies and tools to\\nsupport big data teams and improve big data project effectiveness,” in\\n2015 IEEE International Conference on Big Data (Big Data) , Oct 2015,\\npp. 2066–2071.\\n[6] G. Piatetsky, “Crisp-dm, still the top methodology for analytics, data\\nmining, or data science projects,” KDD News , 2014.\\n[7] C. G. Intelligence, “2020 state of data & analytics us.” [Online].\\nAvailable: https://www.coriniumintelligence.com/reports/2020-soda-us\\n[8] Jeffrey Saltz and Nicholas J Hotz, “CRISP-DM – Data Science Project\\nManagement,” 2019.\\n[9] J. Saltz, “Crisp-dm is still the most popular framework for\\nexecuting data science projects,” Jul 2021. [Online]. Available:\\nhttps://www.datascience-pm.com/crisp-dm-still-most-popular/\\n[10] Nathan Benaich and Ian Hogarth, “State of AI 2019.”\\n[11] Mondal, Bhaskar, Artiﬁcial Intelligence: State of the Art . Cham:\\nSpringer International Publishing, 2020, pp. 389–425.\\n[12] N. S. Mayur P. Joshi, “Why so many data science projects fail\\nto deliver,” Mar 2021. [Online]. Available: https://sloanreview.mit.edu/\\narticle/why-so-many-data-science-projects-fail-to-deliver/\\n[13] J. Saltz, I. Shamshurin, and C. Connors, “Predicting data science so-\\nciotechnical execution challenges by categorizing data science projects,”\\nJournal of the Association for Information Science and Technology ,\\nvol. 68, no. 12, pp. 2720–2728, 2017.\\n[14] I. Martinez, E. Viles, and I. G. Olaizola, “Data science methodologies:\\nCurrent challenges and future approaches,” Big Data Research , vol. 24,\\np. 100183, 2021. [Online]. Available: https://www.sciencedirect.com/\\nscience/article/pii/S2214579620300514\\n[15] R. Wirth and J. Hipp, “Crisp-dm: Towards a standard process model for\\ndata mining,” in Proceedings of the 4th international conference on the\\npractical applications of knowledge discovery and data mining , vol. 1.\\nSpringer-Verlag London, UK, 2000.\\n[16] Microsoft, “What is the team data science process? - azure architecture\\ncenter.” [Online]. Available: https://docs.microsoft.com/en-us/azure/\\narchitecture/data-science-process/overview\\n[17] J. Russell, “Agile data science 2.0: Building full-stack data analytics\\napplications with spark,” 2017.\\n[18] Nicholas J Hotz and Jeffrey Saltz, “Domino Data Science Lifecycle –\\nData Science Project Management,” 2018.\\n[19] John Rollings, “Foundational methodology for data science,” 2015.\\n[20] S. Moyle and A. Jorge, “Ramsys - a methodology for supporting\\nrapid remote collaborative data mining projects,” in ECML/PKDD01\\nWorkshop: Integrating Aspects of Data Mining, Decision Support and\\nMeta-learning (IDDM-2001) , vol. 64, 2001.\\n[21] K. Crowston, J. S. Saltz, A. Rezgui, Y . Hegde, and S. You, “Socio-\\ntechnical affordances for stigmergic coordination implemented in midst,\\na tool for data-science teams,” Proceedings of the ACM on Human-\\nComputer Interaction , vol. 3, no. CSCW, pp. 1–25, 2019.\\n[22] J. Saltz, N. Hotz, D. J. Wild, and K. Stirling, “Exploring project\\nmanagement methodologies used within data science teams,” in AMCIS ,\\n2018.\\n[23] R Core Team, R: A Language and Environment for Statistical\\nComputing , R Foundation for Statistical Computing, Vienna, Austria,\\n2020. [Online]. Available: https://www.R-project.orgAPPENDIX A\\nSURVEY ADDITIONAL RESULTS\\n6\\n2261\\n68\\n4\\n2239\\n236\\n411\\n316674\\nItems with 1 count\\n                         Chile\\n                         China\\n                        Brazil\\n                        Greece\\n                        Poland\\n                       Austria\\n                       Romania\\n                      Colombia\\n                      Thailand\\n                    Luxembourg\\n                    Mauritania\\n                   Afghanistan\\n                  South Africa\\n             Brunei Darussalam\\n          Syrian Arab Republic\\n          United Arab Emirates\\nItems with 1 count\\n                         Chile\\n                         China\\n                        Brazil\\n                        Greece\\n                        Poland\\n                       Austria\\n                       Romania\\n                      Colombia\\n                      Thailand\\n                    Luxembourg\\n                    Mauritania\\n                   Afghanistan\\n                  South Africa\\n             Brunei Darussalam\\n          Syrian Arab Republic\\n          United Arab Emirates\\nItems with 1 count\\n                         Chile\\n                         China\\n                        Brazil\\n                        Greece\\n                        Poland\\n                       Austria\\n                       Romania\\n                      Colombia\\n                      Thailand\\n                    Luxembourg\\n                    Mauritania\\n                   Afghanistan\\n                  South Africa\\n             Brunei Darussalam\\n          Syrian Arab Republic\\n          United Arab Emirates\\nItems with 1 count\\n                         Chile\\n                         China\\n                        Brazil\\n                        Greece\\n                        Poland\\n                       Austria\\n                       Romania\\n                      Colombia\\n                      Thailand\\n                    Luxembourg\\n                    Mauritania\\n                   Afghanistan\\n                  South Africa\\n             Brunei Darussalam\\n          Syrian Arab Republic\\n          United Arab Emirates\\nItems with 1 count\\n                         Chile\\n                         China\\n                        Brazil\\n                        Greece\\n                        Poland\\n                       Austria\\n                       Romania\\n                      Colombia\\n                      Thailand\\n                    Luxembourg\\n                    Mauritania\\n                   Afghanistan\\n                  South Africa\\n             Brunei Darussalam\\n          Syrian Arab Republic\\n          United Arab Emirates\\nItems with 1 count\\n                         Chile\\n                         China\\n                        Brazil\\n                        Greece\\n                        Poland\\n                       Austria\\n                       Romania\\n                      Colombia\\n                      Thailand\\n                    Luxembourg\\n                    Mauritania\\n                   Afghanistan\\n                  South Africa\\n             Brunei Darussalam\\n          Syrian Arab Republic\\n          United Arab Emirates\\nItems with 1 count\\n                         Chile\\n                         China\\n                        Brazil\\n                        Greece\\n                        Poland\\n                       Austria\\n                       Romania\\n                      Colombia\\n                      Thailand\\n                    Luxembourg\\n                    Mauritania\\n                   Afghanistan\\n                  South Africa\\n             Brunei Darussalam\\n          Syrian Arab Republic\\n          United Arab Emirates\\nItems with 1 count\\n                         Chile\\n                         China\\n                        Brazil\\n                        Greece\\n                        Poland\\n                       Austria\\n                       Romania\\n                      Colombia\\n                      Thailand\\n                    Luxembourg\\n                    Mauritania\\n                   Afghanistan\\n                  South Africa\\n             Brunei Darussalam\\n          Syrian Arab Republic\\n          United Arab Emirates\\nItems with 1 count\\n                         Chile\\n                         China\\n                        Brazil\\n                        Greece\\n                        Poland\\n                       Austria\\n                       Romania\\n                      Colombia\\n                      Thailand\\n                    Luxembourg\\n                    Mauritania\\n                   Afghanistan\\n                  South Africa\\n             Brunei Darussalam\\n          Syrian Arab Republic\\n          United Arab Emirates\\nItems with 1 count\\n                         Chile\\n                         China\\n                        Brazil\\n                        Greece\\n                        Poland\\n                       Austria\\n                       Romania\\n                      Colombia\\n                      Thailand\\n                    Luxembourg\\n                    Mauritania\\n                   Afghanistan\\n                  South Africa\\n             Brunei Darussalam\\n          Syrian Arab Republic\\n          United Arab Emirates\\nItems with 1 count\\n                         Chile\\n                         China\\n                        Brazil\\n                        Greece\\n                        Poland\\n                       Austria\\n                       Romania\\n                      Colombia\\n                      Thailand\\n                    Luxembourg\\n                    Mauritania\\n                   Afghanistan\\n                  South Africa\\n             Brunei Darussalam\\n          Syrian Arab Republic\\n          United Arab Emirates\\nItems with 1 count\\n                         Chile\\n                         China\\n                        Brazil\\n                        Greece\\n                        Poland\\n                       Austria\\n                       Romania\\n                      Colombia\\n                      Thailand\\n                    Luxembourg\\n                    Mauritania\\n                   Afghanistan\\n                  South Africa\\n             Brunei Darussalam\\n          Syrian Arab Republic\\n          United Arab Emirates\\nItems with 1 count\\n                         Chile\\n                         China\\n                        Brazil\\n                        Greece\\n                        Poland\\n                       Austria\\n                       Romania\\n                      Colombia\\n                      Thailand\\n                    Luxembourg\\n                    Mauritania\\n                   Afghanistan\\n                  South Africa\\n             Brunei Darussalam\\n          Syrian Arab Republic\\n          United Arab Emirates\\nItems with 1 count\\n                         Chile\\n                         China\\n                        Brazil\\n                        Greece\\n                        Poland\\n                       Austria\\n                       Romania\\n                      Colombia\\n                      Thailand\\n                    Luxembourg\\n                    Mauritania\\n                   Afghanistan\\n                  South Africa\\n             Brunei Darussalam\\n          Syrian Arab Republic\\n          United Arab Emirates\\nItems with 1 count\\n                         Chile\\n                         China\\n                        Brazil\\n                        Greece\\n                        Poland\\n                       Austria\\n                       Romania\\n                      Colombia\\n                      Thailand\\n                    Luxembourg\\n                    Mauritania\\n                   Afghanistan\\n                  South Africa\\n             Brunei Darussalam\\n          Syrian Arab Republic\\n          United Arab Emirates\\nItems with 1 count\\n                         Chile\\n                         China\\n                        Brazil\\n                        Greece\\n                        Poland\\n                       Austria\\n                       Romania\\n                      Colombia\\n                      Thailand\\n                    Luxembourg\\n                    Mauritania\\n                   Afghanistan\\n                  South Africa\\n             Brunei Darussalam\\n          Syrian Arab Republic\\n          United Arab Emirates\\nItems with 1 count\\n                         Chile\\n                         China\\n                        Brazil\\n                        Greece\\n                        Poland\\n                       Austria\\n                       Romania\\n                      Colombia\\n                      Thailand\\n                    Luxembourg\\n                    Mauritania\\n                   Afghanistan\\n                  South Africa\\n             Brunei Darussalam\\n          Syrian Arab Republic\\n          United Arab Emirates\\nItems with 1 count\\n                         Chile\\n                         China\\n                        Brazil\\n                        Greece\\n                        Poland\\n                       Austria\\n                       Romania\\n                      Colombia\\n                      Thailand\\n                    Luxembourg\\n                    Mauritania\\n                   Afghanistan\\n                  South Africa\\n             Brunei Darussalam\\n          Syrian Arab Republic\\n          United Arab Emirates\\nItems with 1 count\\n                         Chile\\n                         China\\n                        Brazil\\n                        Greece\\n                        Poland\\n                       Austria\\n                       Romania\\n                      Colombia\\n                      Thailand\\n                    Luxembourg\\n                    Mauritania\\n                   Afghanistan\\n                  South Africa\\n             Brunei Darussalam\\n          Syrian Arab Republic\\n          United Arab Emirates\\nItems with 1 count\\n                         Chile\\n                         China\\n                        Brazil\\n                        Greece\\n                        Poland\\n                       Austria\\n                       Romania\\n                      Colombia\\n                      Thailand\\n                    Luxembourg\\n                    Mauritania\\n                   Afghanistan\\n                  South Africa\\n             Brunei Darussalam\\n          Syrian Arab Republic\\n          United Arab Emirates\\nItems with 1 count\\n                         Chile\\n                         China\\n                        Brazil\\n                        Greece\\n                        Poland\\n                       Austria\\n                       Romania\\n                      Colombia\\n                      Thailand\\n                    Luxembourg\\n                    Mauritania\\n                   Afghanistan\\n                  South Africa\\n             Brunei Darussalam\\n          Syrian Arab Republic\\n          United Arab Emirates\\nItems with 1 count\\n                         Chile\\n                         China\\n                        Brazil\\n                        Greece\\n                        Poland\\n                       Austria\\n                       Romania\\n                      Colombia\\n                      Thailand\\n                    Luxembourg\\n                    Mauritania\\n                   Afghanistan\\n                  South Africa\\n             Brunei Darussalam\\n          Syrian Arab Republic\\n          United Arab Emirates\\nItems with 1 count\\n                         Chile\\n                         China\\n                        Brazil\\n                        Greece\\n                        Poland\\n                       Austria\\n                       Romania\\n                      Colombia\\n                      Thailand\\n                    Luxembourg\\n                    Mauritania\\n                   Afghanistan\\n                  South Africa\\n             Brunei Darussalam\\n          Syrian Arab Republic\\n          United Arab Emirates\\nItems with 1 count\\n                         Chile\\n                         China\\n                        Brazil\\n                        Greece\\n                        Poland\\n                       Austria\\n                       Romania\\n                      Colombia\\n                      Thailand\\n                    Luxembourg\\n                    Mauritania\\n                   Afghanistan\\n                  South Africa\\n             Brunei Darussalam\\n          Syrian Arab Republic\\n          United Arab Emirates\\nItems with 1 count\\n                         Chile\\n                         China\\n                        Brazil\\n                        Greece\\n                        Poland\\n                       Austria\\n                       Romania\\n                      Colombia\\n                      Thailand\\n                    Luxembourg\\n                    Mauritania\\n                   Afghanistan\\n                  South Africa\\n             Brunei Darussalam\\n          Syrian Arab Republic\\n          United Arab Emirates\\nItems with 1 count\\n                         Chile\\n                         China\\n                        Brazil\\n                        Greece\\n                        Poland\\n                       Austria\\n                       Romania\\n                      Colombia\\n                      Thailand\\n                    Luxembourg\\n                    Mauritania\\n                   Afghanistan\\n                  South Africa\\n             Brunei Darussalam\\n          Syrian Arab Republic\\n          United Arab Emirates\\nItems with 1 count\\n                         Chile\\n                         China\\n                        Brazil\\n                        Greece\\n                        Poland\\n                       Austria\\n                       Romania\\n                      Colombia\\n                      Thailand\\n                    Luxembourg\\n                    Mauritania\\n                   Afghanistan\\n                  South Africa\\n             Brunei Darussalam\\n          Syrian Arab Republic\\n          United Arab Emirates\\nItems with 1 count\\n                         Chile\\n                         China\\n                        Brazil\\n                        Greece\\n                        Poland\\n                       Austria\\n                       Romania\\n                      Colombia\\n                      Thailand\\n                    Luxembourg\\n                    Mauritania\\n                   Afghanistan\\n                  South Africa\\n             Brunei Darussalam\\n          Syrian Arab Republic\\n          United Arab Emirates\\nItems with 1 count\\n                         Chile\\n                         China\\n                        Brazil\\n                        Greece\\n                        Poland\\n                       Austria\\n                       Romania\\n                      Colombia\\n                      Thailand\\n                    Luxembourg\\n                    Mauritania\\n                   Afghanistan\\n                  South Africa\\n             Brunei Darussalam\\n          Syrian Arab Republic\\n          United Arab Emirates\\nItems with 1 count\\n                         Chile\\n                         China\\n                        Brazil\\n                        Greece\\n                        Poland\\n                       Austria\\n                       Romania\\n                      Colombia\\n                      Thailand\\n                    Luxembourg\\n                    Mauritania\\n                   Afghanistan\\n                  South Africa\\n             Brunei Darussalam\\n          Syrian Arab Republic\\n          United Arab Emirates\\nItems with 1 count\\n                         Chile\\n                         China\\n                        Brazil\\n                        Greece\\n                        Poland\\n                       Austria\\n                       Romania\\n                      Colombia\\n                      Thailand\\n                    Luxembourg\\n                    Mauritania\\n                   Afghanistan\\n                  South Africa\\n             Brunei Darussalam\\n          Syrian Arab Republic\\n          United Arab Emirates\\nItems with 1 count\\n                         Chile\\n                         China\\n                        Brazil\\n                        Greece\\n                        Poland\\n                       Austria\\n                       Romania\\n                      Colombia\\n                      Thailand\\n                    Luxembourg\\n                    Mauritania\\n                   Afghanistan\\n                  South Africa\\n             Brunei Darussalam\\n          Syrian Arab Republic\\n          United Arab Emirates\\nItems with 1 count\\n                         Chile\\n                         China\\n                        Brazil\\n                        Greece\\n                        Poland\\n                       Austria\\n                       Romania\\n                      Colombia\\n                      Thailand\\n                    Luxembourg\\n                    Mauritania\\n                   Afghanistan\\n                  South Africa\\n             Brunei Darussalam\\n          Syrian Arab Republic\\n          United Arab Emirates\\nItems with 1 count\\n                         Chile\\n                         China\\n                        Brazil\\n                        Greece\\n                        Poland\\n                       Austria\\n                       Romania\\n                      Colombia\\n                      Thailand\\n                    Luxembourg\\n                    Mauritania\\n                   Afghanistan\\n                  South Africa\\n             Brunei Darussalam\\n          Syrian Arab Republic\\n          United Arab Emirates\\nItems with 1 count\\n                         Chile\\n                         China\\n                        Brazil\\n                        Greece\\n                        Poland\\n                       Austria\\n                       Romania\\n                      Colombia\\n                      Thailand\\n                    Luxembourg\\n                    Mauritania\\n                   Afghanistan\\n                  South Africa\\n             Brunei Darussalam\\n          Syrian Arab Republic\\n          United Arab Emirates\\nItems with 1 count\\n                         Chile\\n                         China\\n                        Brazil\\n                        Greece\\n                        Poland\\n                       Austria\\n                       Romania\\n                      Colombia\\n                      Thailand\\n                    Luxembourg\\n                    Mauritania\\n                   Afghanistan\\n                  South Africa\\n             Brunei Darussalam\\n          Syrian Arab Republic\\n          United Arab Emirates\\n                         Italy                         Japan                        Sweden                       Belgium                       Ireland                       Denmark                      Portugal                   New Zealand                        Norway                     Singapore                         India                        Canada                     Australia                        France                       Germany                   Netherlands                United Kingdom                         Spain      United States of AmericaNA\\n0 20 40 60\\nSurvey Respondents\\nFig. A.1. Survey results to \"in what country do you work?\" question Q1\\n2228\\n3333\\n2866\\n328\\n14\\n2227\\nItems with 1 count\\n                       C−Suite\\n                     Economist\\n                    Consultant\\n                    Strategist\\n                   Analyst NOC\\n               Biostatistician\\n               Cloud Architect\\n            Aerospace Engineer\\n            Analytics Engineer\\n           Industrial engineer\\n       Data Operations Manager\\n      User Experience Engineer\\n   Vice President of Analytics\\nFunctional application manager\\nItems with 1 count\\n                       C−Suite\\n                     Economist\\n                    Consultant\\n                    Strategist\\n                   Analyst NOC\\n               Biostatistician\\n               Cloud Architect\\n            Aerospace Engineer\\n            Analytics Engineer\\n           Industrial engineer\\n       Data Operations Manager\\n      User Experience Engineer\\n   Vice President of Analytics\\nFunctional application manager\\nItems with 1 count\\n                       C−Suite\\n                     Economist\\n                    Consultant\\n                    Strategist\\n                   Analyst NOC\\n               Biostatistician\\n               Cloud Architect\\n            Aerospace Engineer\\n            Analytics Engineer\\n           Industrial engineer\\n       Data Operations Manager\\n      User Experience Engineer\\n   Vice President of Analytics\\nFunctional application manager\\nItems with 1 count\\n                       C−Suite\\n                     Economist\\n                    Consultant\\n                    Strategist\\n                   Analyst NOC\\n               Biostatistician\\n               Cloud Architect\\n            Aerospace Engineer\\n            Analytics Engineer\\n           Industrial engineer\\n       Data Operations Manager\\n      User Experience Engineer\\n   Vice President of Analytics\\nFunctional application manager\\nItems with 1 count\\n                       C−Suite\\n                     Economist\\n                    Consultant\\n                    Strategist\\n                   Analyst NOC\\n               Biostatistician\\n               Cloud Architect\\n            Aerospace Engineer\\n            Analytics Engineer\\n           Industrial engineer\\n       Data Operations Manager\\n      User Experience Engineer\\n   Vice President of Analytics\\nFunctional application manager\\nItems with 1 count\\n                       C−Suite\\n                     Economist\\n                    Consultant\\n                    Strategist\\n                   Analyst NOC\\n               Biostatistician\\n               Cloud Architect\\n            Aerospace Engineer\\n            Analytics Engineer\\n           Industrial engineer\\n       Data Operations Manager\\n      User Experience Engineer\\n   Vice President of Analytics\\nFunctional application manager\\nItems with 1 count\\n                       C−Suite\\n                     Economist\\n                    Consultant\\n                    Strategist\\n                   Analyst NOC\\n               Biostatistician\\n               Cloud Architect\\n            Aerospace Engineer\\n            Analytics Engineer\\n           Industrial engineer\\n       Data Operations Manager\\n      User Experience Engineer\\n   Vice President of Analytics\\nFunctional application manager\\nItems with 1 count\\n                       C−Suite\\n                     Economist\\n                    Consultant\\n                    Strategist\\n                   Analyst NOC\\n               Biostatistician\\n               Cloud Architect\\n            Aerospace Engineer\\n            Analytics Engineer\\n           Industrial engineer\\n       Data Operations Manager\\n      User Experience Engineer\\n   Vice President of Analytics\\nFunctional application manager\\nItems with 1 count\\n                       C−Suite\\n                     Economist\\n                    Consultant\\n                    Strategist\\n                   Analyst NOC\\n               Biostatistician\\n               Cloud Architect\\n            Aerospace Engineer\\n            Analytics Engineer\\n           Industrial engineer\\n       Data Operations Manager\\n      User Experience Engineer\\n   Vice President of Analytics\\nFunctional application manager\\nItems with 1 count\\n                       C−Suite\\n                     Economist\\n                    Consultant\\n                    Strategist\\n                   Analyst NOC\\n               Biostatistician\\n               Cloud Architect\\n            Aerospace Engineer\\n            Analytics Engineer\\n           Industrial engineer\\n       Data Operations Manager\\n      User Experience Engineer\\n   Vice President of Analytics\\nFunctional application manager\\nItems with 1 count\\n                       C−Suite\\n                     Economist\\n                    Consultant\\n                    Strategist\\n                   Analyst NOC\\n               Biostatistician\\n               Cloud Architect\\n            Aerospace Engineer\\n            Analytics Engineer\\n           Industrial engineer\\n       Data Operations Manager\\n      User Experience Engineer\\n   Vice President of Analytics\\nFunctional application manager\\nItems with 1 count\\n                       C−Suite\\n                     Economist\\n                    Consultant\\n                    Strategist\\n                   Analyst NOC\\n               Biostatistician\\n               Cloud Architect\\n            Aerospace Engineer\\n            Analytics Engineer\\n           Industrial engineer\\n       Data Operations Manager\\n      User Experience Engineer\\n   Vice President of Analytics\\nFunctional application manager\\nItems with 1 count\\n                       C−Suite\\n                     Economist\\n                    Consultant\\n                    Strategist\\n                   Analyst NOC\\n               Biostatistician\\n               Cloud Architect\\n            Aerospace Engineer\\n            Analytics Engineer\\n           Industrial engineer\\n       Data Operations Manager\\n      User Experience Engineer\\n   Vice President of Analytics\\nFunctional application manager\\nItems with 1 count\\n                       C−Suite\\n                     Economist\\n                    Consultant\\n                    Strategist\\n                   Analyst NOC\\n               Biostatistician\\n               Cloud Architect\\n            Aerospace Engineer\\n            Analytics Engineer\\n           Industrial engineer\\n       Data Operations Manager\\n      User Experience Engineer\\n   Vice President of Analytics\\nFunctional application manager\\nItems with 1 count\\n                       C−Suite\\n                     Economist\\n                    Consultant\\n                    Strategist\\n                   Analyst NOC\\n               Biostatistician\\n               Cloud Architect\\n            Aerospace Engineer\\n            Analytics Engineer\\n           Industrial engineer\\n       Data Operations Manager\\n      User Experience Engineer\\n   Vice President of Analytics\\nFunctional application manager\\nItems with 1 count\\n                       C−Suite\\n                     Economist\\n                    Consultant\\n                    Strategist\\n                   Analyst NOC\\n               Biostatistician\\n               Cloud Architect\\n            Aerospace Engineer\\n            Analytics Engineer\\n           Industrial engineer\\n       Data Operations Manager\\n      User Experience Engineer\\n   Vice President of Analytics\\nFunctional application manager\\nItems with 1 count\\n                       C−Suite\\n                     Economist\\n                    Consultant\\n                    Strategist\\n                   Analyst NOC\\n               Biostatistician\\n               Cloud Architect\\n            Aerospace Engineer\\n            Analytics Engineer\\n           Industrial engineer\\n       Data Operations Manager\\n      User Experience Engineer\\n   Vice President of Analytics\\nFunctional application manager\\nItems with 1 count\\n                       C−Suite\\n                     Economist\\n                    Consultant\\n                    Strategist\\n                   Analyst NOC\\n               Biostatistician\\n               Cloud Architect\\n            Aerospace Engineer\\n            Analytics Engineer\\n           Industrial engineer\\n       Data Operations Manager\\n      User Experience Engineer\\n   Vice President of Analytics\\nFunctional application manager\\nItems with 1 count\\n                       C−Suite\\n                     Economist\\n                    Consultant\\n                    Strategist\\n                   Analyst NOC\\n               Biostatistician\\n               Cloud Architect\\n            Aerospace Engineer\\n            Analytics Engineer\\n           Industrial engineer\\n       Data Operations Manager\\n      User Experience Engineer\\n   Vice President of Analytics\\nFunctional application manager\\nItems with 1 count\\n                       C−Suite\\n                     Economist\\n                    Consultant\\n                    Strategist\\n                   Analyst NOC\\n               Biostatistician\\n               Cloud Architect\\n            Aerospace Engineer\\n            Analytics Engineer\\n           Industrial engineer\\n       Data Operations Manager\\n      User Experience Engineer\\n   Vice President of Analytics\\nFunctional application manager\\nItems with 1 count\\n                       C−Suite\\n                     Economist\\n                    Consultant\\n                    Strategist\\n                   Analyst NOC\\n               Biostatistician\\n               Cloud Architect\\n            Aerospace Engineer\\n            Analytics Engineer\\n           Industrial engineer\\n       Data Operations Manager\\n      User Experience Engineer\\n   Vice President of Analytics\\nFunctional application manager\\nItems with 1 count\\n                       C−Suite\\n                     Economist\\n                    Consultant\\n                    Strategist\\n                   Analyst NOC\\n               Biostatistician\\n               Cloud Architect\\n            Aerospace Engineer\\n            Analytics Engineer\\n           Industrial engineer\\n       Data Operations Manager\\n      User Experience Engineer\\n   Vice President of Analytics\\nFunctional application manager\\nItems with 1 count\\n                       C−Suite\\n                     Economist\\n                    Consultant\\n                    Strategist\\n                   Analyst NOC\\n               Biostatistician\\n               Cloud Architect\\n            Aerospace Engineer\\n            Analytics Engineer\\n           Industrial engineer\\n       Data Operations Manager\\n      User Experience Engineer\\n   Vice President of Analytics\\nFunctional application manager\\nItems with 1 count\\n                       C−Suite\\n                     Economist\\n                    Consultant\\n                    Strategist\\n                   Analyst NOC\\n               Biostatistician\\n               Cloud Architect\\n            Aerospace Engineer\\n            Analytics Engineer\\n           Industrial engineer\\n       Data Operations Manager\\n      User Experience Engineer\\n   Vice President of Analytics\\nFunctional application manager\\nItems with 1 count\\n                       C−Suite\\n                     Economist\\n                    Consultant\\n                    Strategist\\n                   Analyst NOC\\n               Biostatistician\\n               Cloud Architect\\n            Aerospace Engineer\\n            Analytics Engineer\\n           Industrial engineer\\n       Data Operations Manager\\n      User Experience Engineer\\n   Vice President of Analytics\\nFunctional application manager\\nItems with 1 count\\n                       C−Suite\\n                     Economist\\n                    Consultant\\n                    Strategist\\n                   Analyst NOC\\n               Biostatistician\\n               Cloud Architect\\n            Aerospace Engineer\\n            Analytics Engineer\\n           Industrial engineer\\n       Data Operations Manager\\n      User Experience Engineer\\n   Vice President of Analytics\\nFunctional application manager\\nItems with 1 count\\n                       C−Suite\\n                     Economist\\n                    Consultant\\n                    Strategist\\n                   Analyst NOC\\n               Biostatistician\\n               Cloud Architect\\n            Aerospace Engineer\\n            Analytics Engineer\\n           Industrial engineer\\n       Data Operations Manager\\n      User Experience Engineer\\n   Vice President of Analytics\\nFunctional application manager\\nItems with 1 count\\n                       C−Suite\\n                     Economist\\n                    Consultant\\n                    Strategist\\n                   Analyst NOC\\n               Biostatistician\\n               Cloud Architect\\n            Aerospace Engineer\\n            Analytics Engineer\\n           Industrial engineer\\n       Data Operations Manager\\n      User Experience Engineer\\n   Vice President of Analytics\\nFunctional application manager\\nItems with 1 count\\n                       C−Suite\\n                     Economist\\n                    Consultant\\n                    Strategist\\n                   Analyst NOC\\n               Biostatistician\\n               Cloud Architect\\n            Aerospace Engineer\\n            Analytics Engineer\\n           Industrial engineer\\n       Data Operations Manager\\n      User Experience Engineer\\n   Vice President of Analytics\\nFunctional application manager\\n                           R&D                         Other                 Product Owner           Engineering Manager           Mechanical Engineer                  Data Manager                  Statistician               Data Consultant                Data Architect            Software Developer     Machine Learning Engineer                  Data Analyst              Business Analyst                 Data Engineer                Data Scientist\\n0 20 40 60\\nSurvey Respondents\\nFig. A.2. Survey results to \"which title best describes your role?\" question\\nQ2'"
      ]
     },
     "execution_count": 4,
     "metadata": {},
     "output_type": "execute_result"
    }
   ],
   "source": [
    "file_path = 'data/Survey of Success Factors in Data Science Project.pdf'\n",
    "\n",
    "def extract_text_from_pdf(file_path):\n",
    "    with open(file_path, 'rb') as file:\n",
    "        pdf = PdfReader(file)\n",
    "        text = \" \".join(page.extract_text() for page in pdf.pages)\n",
    "    return text\n",
    "\n",
    "# Extract text from the PDF and split it into sentences\n",
    "text = extract_text_from_pdf(file_path)\n",
    "text"
   ]
  },
  {
   "cell_type": "markdown",
   "metadata": {},
   "source": [
    "**Clustering the sentences**\n",
    "\n",
    "We first embed the sentences into vectors so they can be clustered."
   ]
  },
  {
   "cell_type": "code",
   "execution_count": 6,
   "metadata": {},
   "outputs": [
    {
     "name": "stderr",
     "output_type": "stream",
     "text": [
      "d:\\GitHub\\LLMs\\Website-explainer\\.venv\\Lib\\site-packages\\sklearn\\cluster\\_kmeans.py:1416: FutureWarning: The default value of `n_init` will change from 10 to 'auto' in 1.4. Set the value of `n_init` explicitly to suppress the warning\n",
      "  super()._check_params_vs_input(X, default_n_init=10)\n"
     ]
    }
   ],
   "source": [
    "# Embbeding sentences\n",
    "model = SentenceTransformer('all-MiniLM-L6-v2')\n",
    "# sentences = sent_tokenize(docs[0].page_content)       # for webpage above\n",
    "sentences = sent_tokenize(text)\n",
    "embeddings = model.encode(sentences)\n",
    "\n",
    "# Clustering sentences\n",
    "n_clusters = 30\n",
    "kmeans = KMeans(n_clusters=n_clusters)\n",
    "clusters = kmeans.fit_predict(embeddings)"
   ]
  },
  {
   "cell_type": "code",
   "execution_count": 7,
   "metadata": {},
   "outputs": [],
   "source": [
    "def clean_sentence(sentence):\n",
    "    \"\"\"\n",
    "    Tokenize a sentence, convert it to lower case,\n",
    "    remove punctuation, non-alphabetic tokens and stop words.\n",
    "    \"\"\"\n",
    "    stop_words = set(stopwords.words('english'))\n",
    "\n",
    "    tokens = word_tokenize(sentence)\n",
    "    tokens = [w.lower() for w in tokens]\n",
    "    table = str.maketrans('', '', string.punctuation)\n",
    "    stripped = [w.translate(table) for w in tokens]\n",
    "    words = [word for word in stripped if word.isalpha()]\n",
    "    words = [w for w in words if not w in stop_words]\n",
    "\n",
    "    return words"
   ]
  },
  {
   "cell_type": "code",
   "execution_count": 35,
   "metadata": {},
   "outputs": [
    {
     "data": {
      "text/plain": [
       "'provide additional proﬁling survey respondents roles priorities executing data science projects fact companies report minimal impact ai furthermore provide additional proﬁling survey respondents roles data scientist data engineer business analyst etc among survey respondents data scientists data engineers business analysts data analysts machine learning engineers software developers level job experience among professionals polled distributed follows senior associate entrylevel executive implies majority data science projects large involve large number stakeholders case survey mostly business organizations furthermore survey participants state use kind data science project methodology another say depends project several aspects survey respondents work data science professionals evalu ated including experience level role data scientist data engineer business analyst etc however survey participants state follow data science project methodology question items count economist consultant strategist analyst noc biostatistician cloud architect aerospace engineer analytics engineer industrial engineer data operations manager user experience engineer vice president analytics functional application manager items count economist consultant strategist analyst noc biostatistician cloud architect aerospace engineer analytics engineer industrial engineer data operations manager user experience engineer vice president analytics functional application manager items count economist consultant strategist analyst noc biostatistician cloud architect aerospace engineer analytics engineer industrial engineer data operations manager user experience engineer vice president analytics functional application manager items count economist consultant strategist analyst noc biostatistician cloud architect aerospace engineer analytics engineer industrial engineer data operations manager user experience engineer vice president analytics functional application manager items count economist consultant strategist analyst noc biostatistician cloud architect aerospace engineer analytics engineer industrial engineer data operations manager user experience engineer vice president analytics functional application manager items count economist consultant strategist analyst noc biostatistician cloud architect aerospace engineer analytics engineer industrial engineer data operations manager user experience engineer vice president analytics functional application manager items count economist consultant strategist analyst noc biostatistician cloud architect aerospace engineer analytics engineer industrial engineer data operations manager user experience engineer vice president analytics functional application manager items count economist consultant strategist analyst noc biostatistician cloud architect aerospace engineer analytics engineer industrial engineer data operations manager user experience engineer vice president analytics functional application manager items count economist consultant strategist analyst noc biostatistician cloud architect aerospace engineer analytics engineer industrial engineer data operations manager user experience engineer vice president analytics functional application manager items count economist consultant strategist analyst noc biostatistician cloud architect aerospace engineer analytics engineer industrial engineer data operations manager user experience engineer vice president analytics functional application manager items count economist consultant strategist analyst noc biostatistician cloud architect aerospace engineer analytics engineer industrial engineer data operations manager user experience engineer vice president analytics functional application manager items count economist consultant strategist analyst noc biostatistician cloud architect aerospace engineer analytics engineer industrial engineer data operations manager user experience engineer vice president analytics functional application manager items count economist consultant strategist analyst noc biostatistician cloud architect aerospace engineer analytics engineer industrial engineer data operations manager user experience engineer vice president analytics functional application manager items count economist consultant strategist analyst noc biostatistician cloud architect aerospace engineer analytics engineer industrial engineer data operations manager user experience engineer vice president analytics functional application manager items count economist consultant strategist analyst noc biostatistician cloud architect aerospace engineer analytics engineer industrial engineer data operations manager user experience engineer vice president analytics functional application manager items count economist consultant strategist analyst noc biostatistician cloud architect aerospace engineer analytics engineer industrial engineer data operations manager user experience engineer vice president analytics functional application manager items count economist consultant strategist analyst noc biostatistician cloud architect aerospace engineer analytics engineer industrial engineer data operations manager user experience engineer vice president analytics functional application manager items count economist consultant strategist analyst noc biostatistician cloud architect aerospace engineer analytics engineer industrial engineer data operations manager user experience engineer vice president analytics functional application manager items count economist consultant strategist analyst noc biostatistician cloud architect aerospace engineer analytics engineer industrial engineer data operations manager user experience engineer vice president analytics functional application manager items count economist consultant strategist analyst noc biostatistician cloud architect aerospace engineer analytics engineer industrial engineer data operations manager user experience engineer vice president analytics functional application manager items count economist consultant strategist analyst noc biostatistician cloud architect aerospace engineer analytics engineer industrial engineer data operations manager user experience engineer vice president analytics functional application manager items count economist consultant strategist analyst noc biostatistician cloud architect aerospace engineer analytics engineer industrial engineer data operations manager user experience engineer vice president analytics functional application manager items count economist consultant strategist analyst noc biostatistician cloud architect aerospace engineer analytics engineer industrial engineer data operations manager user experience engineer vice president analytics functional application manager items count economist consultant strategist analyst noc biostatistician cloud architect aerospace engineer analytics engineer industrial engineer data operations manager user experience engineer vice president analytics functional application manager items count economist consultant strategist analyst noc biostatistician cloud architect aerospace engineer analytics engineer industrial engineer data operations manager user experience engineer vice president analytics functional application manager items count economist consultant strategist analyst noc biostatistician cloud architect aerospace engineer analytics engineer industrial engineer data operations manager user experience engineer vice president analytics functional application manager items count economist consultant strategist analyst noc biostatistician cloud architect aerospace engineer analytics engineer industrial engineer data operations manager user experience engineer vice president analytics functional application manager items count economist consultant strategist analyst noc biostatistician cloud architect aerospace engineer analytics engineer industrial engineer data operations manager user experience engineer vice president analytics functional application manager items count economist consultant strategist analyst noc biostatistician cloud architect aerospace engineer analytics engineer industrial engineer data operations manager user experience engineer vice president analytics functional application manager r product owner engineering manager mechanical engineer data manager statistician data consultant data architect software developer machine learning engineer data analyst business analyst data engineer data scientist survey respondents fig'"
      ]
     },
     "execution_count": 35,
     "metadata": {},
     "output_type": "execute_result"
    }
   ],
   "source": [
    "def cluster_sentences(clusters, n_clusters):\n",
    "    \"\"\"Group sentences into clusters.\"\"\"\n",
    "\n",
    "    # Will hold the each cluster of sentences\n",
    "    clustered_texts = []\n",
    "\n",
    "    for i in range(n_clusters):\n",
    "        # Store all the sentences belonging to the same cluster\n",
    "        current_cluster_sentences = [\n",
    "            sentences[j] for j in range(len(sentences)) if clusters[j] == i\n",
    "        ]\n",
    "        \n",
    "        # Clean the cluster sentences\n",
    "        cleaned_sentences = [\n",
    "            ' '.join(clean_sentence(s)) for s in current_cluster_sentences\n",
    "        ]\n",
    "        text = ' '.join(cleaned_sentences)\n",
    "\n",
    "        # Append the cluster's sentences to the doc_chunks list\n",
    "        clustered_texts.append(text)\n",
    "\n",
    "    return clustered_texts\n",
    "\n",
    "clustered_texts = cluster_sentences(clusters, n_clusters)\n",
    "clustered_texts[0]"
   ]
  },
  {
   "cell_type": "markdown",
   "metadata": {},
   "source": [
    "**Visualizing the clusters**"
   ]
  },
  {
   "cell_type": "code",
   "execution_count": 10,
   "metadata": {},
   "outputs": [],
   "source": [
    "def plot_word_clouds(texts):\n",
    "    \"\"\"Generate and plot word clouds for each chunk of documents generated by clustering.\"\"\"\n",
    "\n",
    "    for i, chunk in enumerate(texts):\n",
    "\n",
    "        wordcloud = WordCloud(\n",
    "            max_font_size=50, max_words=100, background_color=\"white\"\n",
    "        ).generate(chunk)\n",
    "\n",
    "        plt.figure()\n",
    "        plt.imshow(wordcloud, interpolation=\"bilinear\")\n",
    "        plt.axis(\"off\")\n",
    "        plt.title(f\"Cluster {i+1}\")\n",
    "        plt.show()\n",
    "\n",
    "# plot_word_clouds(clustered_texts[:5])"
   ]
  },
  {
   "cell_type": "markdown",
   "metadata": {},
   "source": [
    "## Querying the document"
   ]
  },
  {
   "cell_type": "markdown",
   "metadata": {},
   "source": [
    "**Convert sentences to Document**"
   ]
  },
  {
   "cell_type": "code",
   "execution_count": 13,
   "metadata": {},
   "outputs": [
    {
     "data": {
      "text/plain": [
       "[Document(page_content='provide additional proﬁling survey respondents roles priorities executing data science projects fact companies report minimal impact ai furthermore provide additional proﬁling survey respondents roles data scientist data engineer business analyst etc among survey respondents data scientists data engineers business analysts data analysts machine learning engineers software developers level job experience among professionals polled distributed follows senior associate entrylevel executive implies majority data science projects large involve large number stakeholders case survey mostly business organizations furthermore survey participants state use kind data science project methodology another say depends project several aspects survey respondents work data science professionals evalu ated including experience level role data scientist data engineer business analyst etc however survey participants state follow data science project methodology question items count economist consultant strategist analyst noc biostatistician cloud architect aerospace engineer analytics engineer industrial engineer data operations manager user experience engineer vice president analytics functional application manager items count economist consultant strategist analyst noc biostatistician cloud architect aerospace engineer analytics engineer industrial engineer data operations manager user experience engineer vice president analytics functional application manager items count economist consultant strategist analyst noc biostatistician cloud architect aerospace engineer analytics engineer industrial engineer data operations manager user experience engineer vice president analytics functional application manager items count economist consultant strategist analyst noc biostatistician cloud architect aerospace engineer analytics engineer industrial engineer data operations manager user experience engineer vice president analytics functional application manager items count economist consultant strategist analyst noc biostatistician cloud architect aerospace engineer analytics engineer industrial engineer data operations manager user experience engineer vice president analytics functional application manager items count economist consultant strategist analyst noc biostatistician cloud architect aerospace engineer analytics engineer industrial engineer data operations manager user experience engineer vice president analytics functional application manager items count economist consultant strategist analyst noc biostatistician cloud architect aerospace engineer analytics engineer industrial engineer data operations manager user experience engineer vice president analytics functional application manager items count economist consultant strategist analyst noc biostatistician cloud architect aerospace engineer analytics engineer industrial engineer data operations manager user experience engineer vice president analytics functional application manager items count economist consultant strategist analyst noc biostatistician cloud architect aerospace engineer analytics engineer industrial engineer data operations manager user experience engineer vice president analytics functional application manager items count economist consultant strategist analyst noc biostatistician cloud architect aerospace engineer analytics engineer industrial engineer data operations manager user experience engineer vice president analytics functional application manager items count economist consultant strategist analyst noc biostatistician cloud architect aerospace engineer analytics engineer industrial engineer data operations manager user experience engineer vice president analytics functional application manager items count economist consultant strategist analyst noc biostatistician cloud architect aerospace engineer analytics engineer industrial engineer data operations manager user experience engineer vice president analytics functional application manager items count economist consultant strategist analyst noc biostatistician cloud architect aerospace engineer analytics engineer industrial engineer data operations manager user experience engineer vice president analytics functional application manager items count economist consultant strategist analyst noc biostatistician cloud architect aerospace engineer analytics engineer industrial engineer data operations manager user experience engineer vice president analytics functional application manager items count economist consultant strategist analyst noc biostatistician cloud architect aerospace engineer analytics engineer industrial engineer data operations manager user experience engineer vice president analytics functional application manager items count economist consultant strategist analyst noc biostatistician cloud architect aerospace engineer analytics engineer industrial engineer data operations manager user experience engineer vice president analytics functional application manager items count economist consultant strategist analyst noc biostatistician cloud architect aerospace engineer analytics engineer industrial engineer data operations manager user experience engineer vice president analytics functional application manager items count economist consultant strategist analyst noc biostatistician cloud architect aerospace engineer analytics engineer industrial engineer data operations manager user experience engineer vice president analytics functional application manager items count economist consultant strategist analyst noc biostatistician cloud architect aerospace engineer analytics engineer industrial engineer data operations manager user experience engineer vice president analytics functional application manager items count economist consultant strategist analyst noc biostatistician cloud architect aerospace engineer analytics engineer industrial engineer data operations manager user experience engineer vice president analytics functional application manager items count economist consultant strategist analyst noc biostatistician cloud architect aerospace engineer analytics engineer industrial engineer data operations manager user experience engineer vice president analytics functional application manager items count economist consultant strategist analyst noc biostatistician cloud architect aerospace engineer analytics engineer industrial engineer data operations manager user experience engineer vice president analytics functional application manager items count economist consultant strategist analyst noc biostatistician cloud architect aerospace engineer analytics engineer industrial engineer data operations manager user experience engineer vice president analytics functional application manager items count economist consultant strategist analyst noc biostatistician cloud architect aerospace engineer analytics engineer industrial engineer data operations manager user experience engineer vice president analytics functional application manager items count economist consultant strategist analyst noc biostatistician cloud architect aerospace engineer analytics engineer industrial engineer data operations manager user experience engineer vice president analytics functional application manager items count economist consultant strategist analyst noc biostatistician cloud architect aerospace engineer analytics engineer industrial engineer data operations manager user experience engineer vice president analytics functional application manager items count economist consultant strategist analyst noc biostatistician cloud architect aerospace engineer analytics engineer industrial engineer data operations manager user experience engineer vice president analytics functional application manager items count economist consultant strategist analyst noc biostatistician cloud architect aerospace engineer analytics engineer industrial engineer data operations manager user experience engineer vice president analytics functional application manager items count economist consultant strategist analyst noc biostatistician cloud architect aerospace engineer analytics engineer industrial engineer data operations manager user experience engineer vice president analytics functional application manager r product owner engineering manager mechanical engineer data manager statistician data consultant data architect software developer machine learning engineer data analyst business analyst data engineer data scientist survey respondents fig', metadata={'source': 'local'}),\n",
       " Document(page_content='furthermore survey conducted nearly data analytics leaders corinium intelligence found data science organizations established standardized processes microsoft team data science process', metadata={'source': 'local'}),\n",
       " Document(page_content='      pp  ', metadata={'source': 'local'})]"
      ]
     },
     "execution_count": 13,
     "metadata": {},
     "output_type": "execute_result"
    }
   ],
   "source": [
    "def convert_to_docs(texts):\n",
    "    \"\"\"Convert list of text to a list of documents\"\"\"\n",
    "    for i, text in enumerate(texts):\n",
    "        texts[i] = Document(page_content=text, metadata={\"source\": file_path})\n",
    "\n",
    "    return texts\n",
    "\n",
    "doc_chunks = convert_to_docs(clustered_texts)\n",
    "doc_chunks[:3]"
   ]
  },
  {
   "cell_type": "markdown",
   "metadata": {},
   "source": [
    "**Trim the document**"
   ]
  },
  {
   "cell_type": "code",
   "execution_count": 37,
   "metadata": {},
   "outputs": [
    {
     "name": "stdout",
     "output_type": "stream",
     "text": [
      "25  documents extracted.\n"
     ]
    },
    {
     "data": {
      "text/plain": [
       "[Document(page_content='furthermore survey conducted nearly data analytics leaders corinium intelligence found data science organizations established standardized processes microsoft team data science process', metadata={'source': 'local'}),\n",
       " Document(page_content='important success factors precisely describing stakeholders needs communicating results end users team collaboration coordination scrum kanban customized processes followed top three important success factors precisely describe stakeholders needs communicate avg std data augmentation metadata enrichmentdata visualization toolsdefine data lifecycle workflowharness knowledge future workestablishing timelines deliverablesdata security privacyunderstanding team member skills roledeployment pipeline productionversion control code data modelsidentify project potential risks pitfallsdevelop strategy meet project requirementsproactive team communicationteam collaboration coordinationcommunicating results describe stakeholders needs survey essential important important importance important allfig comparing results common factor analysis authors priori determined weights observed data augmentation metadata enrichmentdata visualization toolsharness knowledge future workdeﬁne data lifecycle workﬂowdata security privacyestablishing timelines deliverablesunderstanding team member skills roledeployment pipeline productionversion control code data modelsidentify project potential risks pitfallsproactive team communicationdevelop strategy meet project requirementsteam collaboration coordinationcommunicating results endusersprecisely describe stakeholders needs scorefactorprofessionals address ds methodology yes depends projectfig ﬁrst factor related team management facet second data management aspect third project management regard study success factors based scores gathered important factors precisely describing stake factor team factor data factor project results augmentation metadata enrichmentdata security privacydata visualization toolsdefine data lifecycle workflowdeployment pipeline productiondevelop strategy meet project requirementsestablishing timelines deliverablesharness knowledge future workidentify project potential risks pitfallsprecisely describe stakeholders needsproactive team communicationteam collaboration coordinationversion control code data models normalized loadingsfactor priori assigned factor analysisfig comparing results common factor analysis priori determined weights ﬁrst factor related team management facet second data management aspect third project management', metadata={'source': 'local'})]"
      ]
     },
     "execution_count": 37,
     "metadata": {},
     "output_type": "execute_result"
    }
   ],
   "source": [
    "# Remove docs that are too short or too long\n",
    "doc_trimmed = [doc for doc in doc_chunks if len(doc.page_content) > 30 and len(doc.page_content) < 3000]\n",
    "\n",
    "print(len(doc_trimmed), ' documents extracted.')\n",
    "doc_trimmed[:2]"
   ]
  },
  {
   "cell_type": "markdown",
   "metadata": {},
   "source": [
    "**Query the document**"
   ]
  },
  {
   "cell_type": "code",
   "execution_count": 26,
   "metadata": {},
   "outputs": [
    {
     "name": "stdout",
     "output_type": "stream",
     "text": [
      "\n",
      "\n",
      "\u001b[1m> Entering new RetrievalQA chain...\u001b[0m\n",
      "\n",
      "\u001b[1m> Finished chain.\u001b[0m\n"
     ]
    },
    {
     "data": {
      "text/markdown": [
       "This document discusses the use of different methodologies in data science projects. The main methodology mentioned is CRISP-DM (Cross-Industry Standard Process for Data Mining), which was found to be commonly used by respondents in a survey conducted by KDnuggets. However, the document highlights that the percentage of people using CRISP-DM has changed significantly in recent years, indicating that technology has advanced faster than organizational processes for handling data science projects. \n",
       "\n",
       "The document also mentions that while many participants are aware of CRISP-DM, there are other methodologies such as Agile DS Lifecycle, RAMSYSMIDSTMICROSOFT TDSP, IBM FMDSDOMINO DS, and DS Lifecycle that some respondents are also familiar with. It suggests that the use of CRISP-DM may be decreasing compared to previous surveys.\n",
       "\n",
       "Additionally, the document contains information about a scoring system based on a point Likert scale. It includes a figure that shows the distribution of scores, along with the weighted average and standard deviation. The factors are listed in descending order of importance. The weighted average and standard deviation are calculated based on the response count and weight of each answer choice. The figure also includes a comparison of the weighted average scores for people who follow or do not follow a data science project methodology.\n",
       "\n",
       "Lastly, the document allows personal use of its content."
      ],
      "text/plain": [
       "<IPython.core.display.Markdown object>"
      ]
     },
     "metadata": {},
     "output_type": "display_data"
    }
   ],
   "source": [
    "# Embbed the docs and store them in a vector store\n",
    "db = DocArrayInMemorySearch.from_documents(\n",
    "    doc_trimmed,\n",
    "    OpenAIEmbeddings()\n",
    ")\n",
    "\n",
    "retriever = db.as_retriever()\n",
    "llm = ChatOpenAI(model=model_name, temperature=0.0)\n",
    "\n",
    "# Create RetievalQA chain.                                                                                                                                                                                      \n",
    "qa_stuff = RetrievalQA.from_chain_type(\n",
    "    llm=llm,\n",
    "    chain_type=\"map_reduce\",\n",
    "    retriever=retriever,\n",
    "    verbose=True\n",
    ")\n",
    "\n",
    "# Run the chain\n",
    "query = \"\"\"What should I know about this document? \\ \n",
    "    format your answer in markdown\"\"\"\n",
    "response = qa_stuff.run(query)\n",
    "\n",
    "display(Markdown(response))"
   ]
  },
  {
   "cell_type": "markdown",
   "metadata": {},
   "source": [
    "## Conclusion\n",
    "\n",
    "While clustering is a good way to split large documents, it is not perfect. We can see that sentences are cut off, potentially important information and sentence order are lost, etc.\n",
    "\n",
    "## References\n",
    "- https://learn.deeplearning.ai/langchain/lesson\n",
    "- https://towardsdatascience.com/how-to-chunk-text-data-a-comparative-analysis-3858c4a0997a#:~:text=The%20Langchain%20Character%20Text%20Splitter%20works%20by%20recursively%20dividing%20the,meet%20the%20desired%20size%20criterion."
   ]
  }
 ],
 "metadata": {
  "kernelspec": {
   "display_name": ".venv",
   "language": "python",
   "name": "python3"
  },
  "language_info": {
   "codemirror_mode": {
    "name": "ipython",
    "version": 3
   },
   "file_extension": ".py",
   "mimetype": "text/x-python",
   "name": "python",
   "nbconvert_exporter": "python",
   "pygments_lexer": "ipython3",
   "version": "3.11.0"
  },
  "orig_nbformat": 4
 },
 "nbformat": 4,
 "nbformat_minor": 2
}
