{
 "cells": [
  {
   "cell_type": "markdown",
   "metadata": {},
   "source": [
    "# Evaluating the Answers"
   ]
  },
  {
   "cell_type": "code",
   "execution_count": 28,
   "metadata": {},
   "outputs": [],
   "source": [
    "import openai\n",
    "import os\n",
    "from dotenv import load_dotenv, find_dotenv\n",
    "import numpy as np\n",
    "from IPython.display import display, Markdown, HTML\n",
    "\n",
    "import urllib\n",
    "from PyPDF2 import PdfReader\n",
    "from langchain.document_loaders import UnstructuredHTMLLoader, BSHTMLLoader, PyPDFLoader, CSVLoader\n",
    "\n",
    "from langchain.text_splitter import CharacterTextSplitter\n",
    "\n",
    "from langchain.embeddings import OpenAIEmbeddings, HuggingFaceEmbeddings\n",
    "from sentence_transformers import SentenceTransformer\n",
    "\n",
    "from langchain.docstore.document import Document\n",
    "from langchain.vectorstores import DocArrayInMemorySearch, FAISS, Chroma\n",
    "from langchain.indexes import VectorstoreIndexCreator\n",
    "\n",
    "from langchain.llms import OpenAI\n",
    "from langchain.chat_models import ChatOpenAI \n",
    "from langchain.chains import RetrievalQA\n",
    "\n",
    "from langchain.callbacks import get_openai_callback\n",
    "\n",
    "import spacy\n",
    "nlp = spacy.load('en_core_web_sm')"
   ]
  },
  {
   "cell_type": "code",
   "execution_count": 2,
   "metadata": {},
   "outputs": [],
   "source": [
    "# Load and set API key\n",
    "_ = load_dotenv(find_dotenv())\n",
    "openai.api_key = os.environ['OPENAI_API_KEY']\n",
    "\n",
    "model_name=\"gpt-3.5-turbo\""
   ]
  },
  {
   "cell_type": "markdown",
   "metadata": {},
   "source": [
    "**Load the PDF**"
   ]
  },
  {
   "cell_type": "code",
   "execution_count": 29,
   "metadata": {},
   "outputs": [],
   "source": [
    "file_path = 'data/myntra_products_catalog.csv'\n",
    "loader = CSVLoader(file_path)\n",
    "data = loader.load()"
   ]
  },
  {
   "cell_type": "markdown",
   "metadata": {},
   "source": [
    "**Create the QA Chain**"
   ]
  },
  {
   "cell_type": "code",
   "execution_count": 30,
   "metadata": {},
   "outputs": [
    {
     "data": {
      "text/plain": [
       "[Document(page_content='ProductID: 10001131\\nProductName: MANGO Women Black Slim Fit Solid Cargos\\nProductBrand: MANGO\\nGender: Women\\nPrice (INR): 1716\\nNumImages: 7\\nDescription: Black solid mid-rise cargos, has a waistband with belt loops, button closure, zip fly, and six pockets\\nPrimaryColor: Black', metadata={'source': 'data/myntra_products_catalog.csv', 'row': 782}),\n",
       " Document(page_content='ProductID: 10149831\\nProductName: HERE&NOW Men Brown Regular Fit Solid Cargos\\nProductBrand: HERE&NOW\\nGender: Men\\nPrice (INR): 1259\\nNumImages: 5\\nDescription: Brown solid mid-rise trousers, button closure, and 6 pockets\\nPrimaryColor: Brown', metadata={'source': 'data/myntra_products_catalog.csv', 'row': 5517}),\n",
       " Document(page_content='ProductID: 10247579\\nProductName: beevee Men Brown & Black Straight Fit Camouflage Printed Cargos\\nProductBrand: beevee\\nGender: Men\\nPrice (INR): 900\\nNumImages: 5\\nDescription: Brown and Black mid-rise camouflage print trousers, button and drawstring closure, and 6 pockets\\nPrimaryColor: Black', metadata={'source': 'data/myntra_products_catalog.csv', 'row': 10764}),\n",
       " Document(page_content='ProductID: 10256421\\nProductName: Pepe Jeans Boys Charcoal Grey Pure Cotton Mid-Rise Cargo Shorts\\nProductBrand: Pepe Jeans\\nGender: Boys\\nPrice (INR): 749\\nNumImages: 4\\nDescription: Charcoal grey solid mid-rise cargo shorts, has 6 pockets, drawstring closure\\nPrimaryColor: Grey', metadata={'source': 'data/myntra_products_catalog.csv', 'row': 11732}),\n",
       " Document(page_content='ProductID: 10267851\\nProductName: Calvin Klein Jeans Men Navy Blue Solid Track Pants\\nProductBrand: Calvin Klein Jeans\\nGender: Men\\nPrice (INR): 4799\\nNumImages: 5\\nDescription: A pair of navy blue solid track pants, has an elasticated waistband with belt loops, drawstring closure, mock fly, two front pockets, two mock back pockets\\nPrimaryColor: Blue', metadata={'source': 'data/myntra_products_catalog.csv', 'row': 11884})]"
      ]
     },
     "execution_count": 30,
     "metadata": {},
     "output_type": "execute_result"
    }
   ],
   "source": [
    "index = VectorstoreIndexCreator(\n",
    "    vectorstore_cls=DocArrayInMemorySearch\n",
    ").from_loaders([loader])\n",
    "\n",
    "index.vectorstore.similarity_search(query=\"men cargo pants\", k=5)"
   ]
  },
  {
   "cell_type": "code",
   "execution_count": 31,
   "metadata": {},
   "outputs": [],
   "source": [
    "llm = ChatOpenAI(temperature = 0.0, model=model_name)\n",
    "qa = RetrievalQA.from_chain_type(\n",
    "    llm=llm, \n",
    "    chain_type=\"stuff\", \n",
    "    retriever=index.vectorstore.as_retriever(), \n",
    "    verbose=True,\n",
    "    chain_type_kwargs = {\n",
    "        \"document_separator\": \"<<<<>>>>>\"\n",
    "    },\n",
    ")"
   ]
  },
  {
   "cell_type": "markdown",
   "metadata": {},
   "source": [
    "## Generate examples\n",
    "\n",
    "By generating examples of questions and their answer, we can evluate the model's responses.\n",
    "Generating examples manually is time consuming, which is why we will generate them using the LLM itself.\n",
    "\n",
    "**Manually generated examples**"
   ]
  },
  {
   "cell_type": "code",
   "execution_count": 41,
   "metadata": {},
   "outputs": [
    {
     "data": {
      "text/plain": [
       "'ProductID: 10017413\\nProductName: DKNY Unisex Black & Grey Printed Medium Trolley Bag\\nProductBrand: DKNY\\nGender: Unisex\\nPrice (INR): 11745\\nNumImages: 7\\nDescription: Black and grey printed medium trolley bag, secured with a TSA lockOne handle on the top and one on the side, has a trolley with a retractable handle on the top and four corner mounted inline skate wheelsOne main zip compartment, zip lining, two compression straps with click clasps, one zip compartment on the flap with three zip pocketsWarranty: 5 yearsWarranty provided by Brand Owner / Manufacturer\\nPrimaryColor: Black'"
      ]
     },
     "execution_count": 41,
     "metadata": {},
     "output_type": "execute_result"
    }
   ],
   "source": [
    "data[0].page_content"
   ]
  },
  {
   "cell_type": "code",
   "execution_count": 45,
   "metadata": {},
   "outputs": [],
   "source": [
    "examples = [\n",
    "    {\n",
    "        \"query\": \"Does the DKNY Unisex Black & Grey Printed Medium Trolley Bag \\\n",
    "        have a TSA lockOne handle?\",\n",
    "        \"answer\": \"Yes\"\n",
    "    },\n",
    "]"
   ]
  },
  {
   "cell_type": "markdown",
   "metadata": {},
   "source": [
    "**LLM-generated examples**"
   ]
  },
  {
   "cell_type": "code",
   "execution_count": 68,
   "metadata": {},
   "outputs": [
    {
     "name": "stderr",
     "output_type": "stream",
     "text": [
      "d:\\GitHub\\LLMs\\Website-explainer\\.venv\\Lib\\site-packages\\langchain\\chains\\llm.py:308: UserWarning: The apply_and_parse method is deprecated, instead pass an output parser directly to LLMChain.\n",
      "  warnings.warn(\n"
     ]
    },
    {
     "data": {
      "text/plain": [
       "Document(page_content='ProductID: 10017413\\nProductName: DKNY Unisex Black & Grey Printed Medium Trolley Bag\\nProductBrand: DKNY\\nGender: Unisex\\nPrice (INR): 11745\\nNumImages: 7\\nDescription: Black and grey printed medium trolley bag, secured with a TSA lockOne handle on the top and one on the side, has a trolley with a retractable handle on the top and four corner mounted inline skate wheelsOne main zip compartment, zip lining, two compression straps with click clasps, one zip compartment on the flap with three zip pocketsWarranty: 5 yearsWarranty provided by Brand Owner / Manufacturer\\nPrimaryColor: Black', metadata={'source': 'data/myntra_products_catalog.csv', 'row': 0})"
      ]
     },
     "metadata": {},
     "output_type": "display_data"
    },
    {
     "data": {
      "text/plain": [
       "{'qa_pairs': {'query': 'What is the primary color of the DKNY Unisex Black & Grey Printed Medium Trolley Bag?',\n",
       "  'answer': 'The primary color of the DKNY Unisex Black & Grey Printed Medium Trolley Bag is black.'}}"
      ]
     },
     "metadata": {},
     "output_type": "display_data"
    }
   ],
   "source": [
    "from langchain.evaluation.qa import QAGenerateChain\n",
    "\n",
    "# Create an example generation chain\n",
    "example_gen_chain = QAGenerateChain.from_llm(\n",
    "    ChatOpenAI(model=model_name)\n",
    ")\n",
    "\n",
    "# Generate 5 examples\n",
    "new_examples = example_gen_chain.apply_and_parse(\n",
    "    [{\"doc\": t} for t in data[:5]]\n",
    ")\n",
    "\n",
    "display(data[0])\n",
    "display(new_examples[0])"
   ]
  },
  {
   "cell_type": "markdown",
   "metadata": {},
   "source": [
    "## Evaluate the LLM\n",
    "\n",
    "Again, while we can evaluate the LLM manually, it is time consuming. We will use the LLM to evaluate itself.\n",
    "\n",
    "**Manual evaluation**"
   ]
  },
  {
   "cell_type": "code",
   "execution_count": 43,
   "metadata": {},
   "outputs": [],
   "source": [
    "import langchain\n",
    "langchain.debug = True"
   ]
  },
  {
   "cell_type": "code",
   "execution_count": 46,
   "metadata": {},
   "outputs": [
    {
     "name": "stdout",
     "output_type": "stream",
     "text": [
      "\u001b[32;1m\u001b[1;3m[chain/start]\u001b[0m \u001b[1m[1:chain:RetrievalQA] Entering Chain run with input:\n",
      "\u001b[0m{\n",
      "  \"query\": \"Does the DKNY Unisex Black & Grey Printed Medium Trolley Bag         have a TSA lockOne handle?\"\n",
      "}\n",
      "\u001b[32;1m\u001b[1;3m[chain/start]\u001b[0m \u001b[1m[1:chain:RetrievalQA > 3:chain:StuffDocumentsChain] Entering Chain run with input:\n",
      "\u001b[0m[inputs]\n",
      "\u001b[32;1m\u001b[1;3m[chain/start]\u001b[0m \u001b[1m[1:chain:RetrievalQA > 3:chain:StuffDocumentsChain > 4:chain:LLMChain] Entering Chain run with input:\n",
      "\u001b[0m{\n",
      "  \"question\": \"Does the DKNY Unisex Black & Grey Printed Medium Trolley Bag         have a TSA lockOne handle?\",\n",
      "  \"context\": \"ProductID: 10017413\\nProductName: DKNY Unisex Black & Grey Printed Medium Trolley Bag\\nProductBrand: DKNY\\nGender: Unisex\\nPrice (INR): 11745\\nNumImages: 7\\nDescription: Black and grey printed medium trolley bag, secured with a TSA lockOne handle on the top and one on the side, has a trolley with a retractable handle on the top and four corner mounted inline skate wheelsOne main zip compartment, zip lining, two compression straps with click clasps, one zip compartment on the flap with three zip pocketsWarranty: 5 yearsWarranty provided by Brand Owner / Manufacturer\\nPrimaryColor: Black<<<<>>>>>ProductID: 10017425\\nProductName: DKNY Unisex Black & Grey Printed Large Trolley Bag\\nProductBrand: DKNY\\nGender: Unisex\\nPrice (INR): 13275\\nNumImages: 7\\nDescription: Black and grey printed large trolley bag, secured with a TSA lockOne handle on the top and one on the side, has a trolley with a retractable handle on the top and four corner mounted inline skate wheelsOne main zip compartment, zip lining, two compression straps with click clasps, one zip compartment on the flap with three zip pocketsWarranty: 5 yearsWarranty provided by Brand Owner / Manufacturer\\nPrimaryColor: Black<<<<>>>>>ProductID: 10017461\\nProductName: DKNY Unisex Black & Grey Printed Large Trolley Bag\\nProductBrand: DKNY\\nGender: Unisex\\nPrice (INR): 31100\\nNumImages: 7\\nDescription: Black textured large trolley bag, secured with a TSA lockOne handle on the top and one on the side, has a trolley with a retractable handle on the top and four corner mounted inline skate wheelsOne main zip compartment, zip lining, two compression straps with click clasps and one zip pocketWarranty: 5 yearsWarranty provided by Brand Owner / Manufacturer\\nPrimaryColor: Black<<<<>>>>>ProductID: 10017409\\nProductName: DKNY Unisex Black Medium Trolley Bag\\nProductBrand: DKNY\\nGender: Unisex\\nPrice (INR): 12375\\nNumImages: 6\\nDescription: Black textured medium trolley bag, secured with a TSA lockOne handle on the top and one on the side, has a trolley with a retractable handle on the top and four corner mounted inline skate wheelsOne main zip compartment, zip lining , two compression straps with click clasps, one zip compartment on the flap with a zip pocketWarranty: 5 yearsWarranty provided by Brand Owner / Manufacturer\\nPrimaryColor: Black\"\n",
      "}\n",
      "\u001b[32;1m\u001b[1;3m[llm/start]\u001b[0m \u001b[1m[1:chain:RetrievalQA > 3:chain:StuffDocumentsChain > 4:chain:LLMChain > 5:llm:ChatOpenAI] Entering LLM run with input:\n",
      "\u001b[0m{\n",
      "  \"prompts\": [\n",
      "    \"System: Use the following pieces of context to answer the users question. \\nIf you don't know the answer, just say that you don't know, don't try to make up an answer.\\n----------------\\nProductID: 10017413\\nProductName: DKNY Unisex Black & Grey Printed Medium Trolley Bag\\nProductBrand: DKNY\\nGender: Unisex\\nPrice (INR): 11745\\nNumImages: 7\\nDescription: Black and grey printed medium trolley bag, secured with a TSA lockOne handle on the top and one on the side, has a trolley with a retractable handle on the top and four corner mounted inline skate wheelsOne main zip compartment, zip lining, two compression straps with click clasps, one zip compartment on the flap with three zip pocketsWarranty: 5 yearsWarranty provided by Brand Owner / Manufacturer\\nPrimaryColor: Black<<<<>>>>>ProductID: 10017425\\nProductName: DKNY Unisex Black & Grey Printed Large Trolley Bag\\nProductBrand: DKNY\\nGender: Unisex\\nPrice (INR): 13275\\nNumImages: 7\\nDescription: Black and grey printed large trolley bag, secured with a TSA lockOne handle on the top and one on the side, has a trolley with a retractable handle on the top and four corner mounted inline skate wheelsOne main zip compartment, zip lining, two compression straps with click clasps, one zip compartment on the flap with three zip pocketsWarranty: 5 yearsWarranty provided by Brand Owner / Manufacturer\\nPrimaryColor: Black<<<<>>>>>ProductID: 10017461\\nProductName: DKNY Unisex Black & Grey Printed Large Trolley Bag\\nProductBrand: DKNY\\nGender: Unisex\\nPrice (INR): 31100\\nNumImages: 7\\nDescription: Black textured large trolley bag, secured with a TSA lockOne handle on the top and one on the side, has a trolley with a retractable handle on the top and four corner mounted inline skate wheelsOne main zip compartment, zip lining, two compression straps with click clasps and one zip pocketWarranty: 5 yearsWarranty provided by Brand Owner / Manufacturer\\nPrimaryColor: Black<<<<>>>>>ProductID: 10017409\\nProductName: DKNY Unisex Black Medium Trolley Bag\\nProductBrand: DKNY\\nGender: Unisex\\nPrice (INR): 12375\\nNumImages: 6\\nDescription: Black textured medium trolley bag, secured with a TSA lockOne handle on the top and one on the side, has a trolley with a retractable handle on the top and four corner mounted inline skate wheelsOne main zip compartment, zip lining , two compression straps with click clasps, one zip compartment on the flap with a zip pocketWarranty: 5 yearsWarranty provided by Brand Owner / Manufacturer\\nPrimaryColor: Black\\nHuman: Does the DKNY Unisex Black & Grey Printed Medium Trolley Bag         have a TSA lockOne handle?\"\n",
      "  ]\n",
      "}\n",
      "\u001b[36;1m\u001b[1;3m[llm/end]\u001b[0m \u001b[1m[1:chain:RetrievalQA > 3:chain:StuffDocumentsChain > 4:chain:LLMChain > 5:llm:ChatOpenAI] [2.05s] Exiting LLM run with output:\n",
      "\u001b[0m{\n",
      "  \"generations\": [\n",
      "    [\n",
      "      {\n",
      "        \"text\": \"Yes, the DKNY Unisex Black & Grey Printed Medium Trolley Bag has a TSA lock and one handle.\",\n",
      "        \"generation_info\": {\n",
      "          \"finish_reason\": \"stop\"\n",
      "        },\n",
      "        \"message\": {\n",
      "          \"lc\": 1,\n",
      "          \"type\": \"constructor\",\n",
      "          \"id\": [\n",
      "            \"langchain\",\n",
      "            \"schema\",\n",
      "            \"messages\",\n",
      "            \"AIMessage\"\n",
      "          ],\n",
      "          \"kwargs\": {\n",
      "            \"content\": \"Yes, the DKNY Unisex Black & Grey Printed Medium Trolley Bag has a TSA lock and one handle.\",\n",
      "            \"additional_kwargs\": {}\n",
      "          }\n",
      "        }\n",
      "      }\n",
      "    ]\n",
      "  ],\n",
      "  \"llm_output\": {\n",
      "    \"token_usage\": {\n",
      "      \"prompt_tokens\": 637,\n",
      "      \"completion_tokens\": 24,\n",
      "      \"total_tokens\": 661\n",
      "    },\n",
      "    \"model_name\": \"gpt-3.5-turbo\"\n",
      "  },\n",
      "  \"run\": null\n",
      "}\n",
      "\u001b[36;1m\u001b[1;3m[chain/end]\u001b[0m \u001b[1m[1:chain:RetrievalQA > 3:chain:StuffDocumentsChain > 4:chain:LLMChain] [2.06s] Exiting Chain run with output:\n",
      "\u001b[0m{\n",
      "  \"text\": \"Yes, the DKNY Unisex Black & Grey Printed Medium Trolley Bag has a TSA lock and one handle.\"\n",
      "}\n",
      "\u001b[36;1m\u001b[1;3m[chain/end]\u001b[0m \u001b[1m[1:chain:RetrievalQA > 3:chain:StuffDocumentsChain] [2.06s] Exiting Chain run with output:\n",
      "\u001b[0m{\n",
      "  \"output_text\": \"Yes, the DKNY Unisex Black & Grey Printed Medium Trolley Bag has a TSA lock and one handle.\"\n",
      "}\n",
      "\u001b[36;1m\u001b[1;3m[chain/end]\u001b[0m \u001b[1m[1:chain:RetrievalQA] [2.71s] Exiting Chain run with output:\n",
      "\u001b[0m{\n",
      "  \"result\": \"Yes, the DKNY Unisex Black & Grey Printed Medium Trolley Bag has a TSA lock and one handle.\"\n",
      "}\n"
     ]
    },
    {
     "data": {
      "text/plain": [
       "'Yes, the DKNY Unisex Black & Grey Printed Medium Trolley Bag has a TSA lock and one handle.'"
      ]
     },
     "execution_count": 46,
     "metadata": {},
     "output_type": "execute_result"
    }
   ],
   "source": [
    "qa.run(examples[0][\"query\"])"
   ]
  },
  {
   "cell_type": "code",
   "execution_count": 47,
   "metadata": {},
   "outputs": [],
   "source": [
    "langchain.debug = False"
   ]
  },
  {
   "cell_type": "markdown",
   "metadata": {},
   "source": [
    "**LLM-assisted evaluation**"
   ]
  },
  {
   "cell_type": "code",
   "execution_count": 69,
   "metadata": {},
   "outputs": [
    {
     "data": {
      "text/plain": [
       "{'query': 'What is the primary color of the DKNY Unisex Black & Grey Printed Medium Trolley Bag?',\n",
       " 'answer': 'The primary color of the DKNY Unisex Black & Grey Printed Medium Trolley Bag is black.'}"
      ]
     },
     "execution_count": 69,
     "metadata": {},
     "output_type": "execute_result"
    }
   ],
   "source": [
    "# Extract query and answer from the qa_pairs key\n",
    "new_examples = [ex['qa_pairs'] for ex in new_examples]\n",
    "new_examples[0]"
   ]
  },
  {
   "cell_type": "code",
   "execution_count": 70,
   "metadata": {},
   "outputs": [
    {
     "name": "stdout",
     "output_type": "stream",
     "text": [
      "\n",
      "\n",
      "\u001b[1m> Entering new RetrievalQA chain...\u001b[0m\n",
      "\n",
      "\u001b[1m> Finished chain.\u001b[0m\n",
      "\n",
      "\n",
      "\u001b[1m> Entering new RetrievalQA chain...\u001b[0m\n",
      "\n",
      "\u001b[1m> Finished chain.\u001b[0m\n",
      "\n",
      "\n",
      "\u001b[1m> Entering new RetrievalQA chain...\u001b[0m\n",
      "\n",
      "\u001b[1m> Finished chain.\u001b[0m\n",
      "\n",
      "\n",
      "\u001b[1m> Entering new RetrievalQA chain...\u001b[0m\n",
      "\n",
      "\u001b[1m> Finished chain.\u001b[0m\n",
      "\n",
      "\n",
      "\u001b[1m> Entering new RetrievalQA chain...\u001b[0m\n",
      "\n",
      "\u001b[1m> Finished chain.\u001b[0m\n"
     ]
    },
    {
     "data": {
      "text/plain": [
       "{'results': 'CORRECT'}"
      ]
     },
     "execution_count": 70,
     "metadata": {},
     "output_type": "execute_result"
    }
   ],
   "source": [
    "from langchain.evaluation.qa import QAEvalChain\n",
    "\n",
    "# Predict the answers from the examples\n",
    "predictions = qa.apply(new_examples)\n",
    "\n",
    "# Create an evaluation chain\n",
    "eval_chain = QAEvalChain.from_llm(\n",
    "    ChatOpenAI(temperature=0, model=model_name)\n",
    ")\n",
    "\n",
    "# Evaluate the predictions\n",
    "graded_outputs = eval_chain.evaluate(new_examples, predictions)\n",
    "graded_outputs[0]"
   ]
  },
  {
   "cell_type": "code",
   "execution_count": 73,
   "metadata": {},
   "outputs": [
    {
     "name": "stdout",
     "output_type": "stream",
     "text": [
      "Example 0:\n",
      "Question: What is the primary color of the DKNY Unisex Black & Grey Printed Medium Trolley Bag?\n",
      "Real Answer: The primary color of the DKNY Unisex Black & Grey Printed Medium Trolley Bag is black.\n",
      "Predicted Answer: The primary color of the DKNY Unisex Black & Grey Printed Medium Trolley Bag is black.\n",
      "Predicted Grade: CORRECT\n",
      "\n",
      "Example 1:\n",
      "Question: What is the product name and brand mentioned in the document?\n",
      "Real Answer: The product name is \"EthnoVogue Women Beige & Grey Made to Measure Custom Made Kurta Set with Jacket\" and the brand is \"EthnoVogue\".\n",
      "Predicted Answer: I'm sorry, but I don't have access to the specific document you are referring to. Can you please provide more information or context?\n",
      "Predicted Grade: CORRECT\n",
      "\n",
      "Example 2:\n",
      "Question: What is the product ID of the SPYKAR Women Pink Alexa Super Skinny Fit High-Rise Clean Look Stretchable Cropped Jeans?\n",
      "Real Answer: The product ID of the SPYKAR Women Pink Alexa Super Skinny Fit High-Rise Clean Look Stretchable Cropped Jeans is 10009781.\n",
      "Predicted Answer: The product ID of the SPYKAR Women Pink Alexa Super Skinny Fit High-Rise Clean Look Stretchable Cropped Jeans is 10009781.\n",
      "Predicted Grade: CORRECT\n",
      "\n",
      "Example 3:\n",
      "Question: What is the product name of the Raymond suit mentioned in the document?\n",
      "Real Answer: The product name of the Raymond suit mentioned in the document is \"Raymond Men Blue Self-Design Single-Breasted Bandhgala Suit\".\n",
      "Predicted Answer: The product name of the Raymond suit mentioned in the document is \"Raymond Men Blue Solid Regular-Fit Single-Breasted Formal Suit\".\n",
      "Predicted Grade: CORRECT\n",
      "\n",
      "Example 4:\n",
      "Question: What is the ProductID of the Parx Men Brown & Off-White Slim Fit Printed Casual Shirt?\n",
      "Real Answer: The ProductID of the Parx Men Brown & Off-White Slim Fit Printed Casual Shirt is 10017833.\n",
      "Predicted Answer: The ProductID of the Parx Men Brown & Off-White Slim Fit Printed Casual Shirt is 10017833.\n",
      "Predicted Grade: CORRECT\n",
      "\n"
     ]
    }
   ],
   "source": [
    "for i, eg in enumerate(new_examples):\n",
    "    print(f\"Example {i}:\")\n",
    "    print(\"Question: \" + predictions[i]['query'])\n",
    "    print(\"Real Answer: \" + predictions[i]['answer'])\n",
    "    print(\"Predicted Answer: \" + predictions[i]['result'])\n",
    "    print(\"Predicted Grade: \" + graded_outputs[i]['results'])\n",
    "    print()"
   ]
  }
 ],
 "metadata": {
  "kernelspec": {
   "display_name": ".venv",
   "language": "python",
   "name": "python3"
  },
  "language_info": {
   "codemirror_mode": {
    "name": "ipython",
    "version": 3
   },
   "file_extension": ".py",
   "mimetype": "text/x-python",
   "name": "python",
   "nbconvert_exporter": "python",
   "pygments_lexer": "ipython3",
   "version": "3.11.0"
  },
  "orig_nbformat": 4
 },
 "nbformat": 4,
 "nbformat_minor": 2
}
